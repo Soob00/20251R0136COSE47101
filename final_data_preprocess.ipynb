{
  "nbformat": 4,
  "nbformat_minor": 0,
  "metadata": {
    "colab": {
      "provenance": [],
      "gpuType": "T4",
      "authorship_tag": "ABX9TyPCi2wM4aP6G+C+BS+QuKbC",
      "include_colab_link": true
    },
    "kernelspec": {
      "name": "python3",
      "display_name": "Python 3"
    },
    "language_info": {
      "name": "python"
    },
    "accelerator": "GPU"
  },
  "cells": [
    {
      "cell_type": "markdown",
      "metadata": {
        "id": "view-in-github",
        "colab_type": "text"
      },
      "source": [
        "<a href=\"https://colab.research.google.com/github/Soob00/20251R0136COSE47101/blob/final_data_preprocess/final_data_preprocess.ipynb\" target=\"_parent\"><img src=\"https://colab.research.google.com/assets/colab-badge.svg\" alt=\"Open In Colab\"/></a>"
      ]
    },
    {
      "cell_type": "markdown",
      "source": [
        "#전처리"
      ],
      "metadata": {
        "id": "bhOwWlj_8uBc"
      }
    },
    {
      "cell_type": "markdown",
      "source": [
        "연령, 학력, 인종처럼 기본 정보인데도 답하지 않은 경우 : AGE,EDUC,RACE,GENDER,ETHNIC,MARSTAT,VETERAN"
      ],
      "metadata": {
        "id": "vFGaOP3O9Krm"
      }
    },
    {
      "cell_type": "code",
      "execution_count": 16,
      "metadata": {
        "id": "X0XClfkM8VWg"
      },
      "outputs": [],
      "source": [
        "import pandas as pd\n",
        "import missingno as msno\n",
        "import seaborn as sns\n",
        "import matplotlib.pyplot as plt\n",
        "import csv\n"
      ]
    },
    {
      "cell_type": "code",
      "source": [
        "df = pd.read_csv(\"/content/mhcld_puf_2022.csv\", quoting=csv.QUOTE_NONE, on_bad_lines='skip')"
      ],
      "metadata": {
        "id": "YA2nsD_OARbB"
      },
      "execution_count": 17,
      "outputs": []
    },
    {
      "cell_type": "code",
      "source": [
        "df_edit = df.copy()"
      ],
      "metadata": {
        "id": "wGiY3eEdml7i"
      },
      "execution_count": 19,
      "outputs": []
    },
    {
      "cell_type": "code",
      "source": [
        "df"
      ],
      "metadata": {
        "colab": {
          "base_uri": "https://localhost:8080/",
          "height": 444
        },
        "id": "n_yFmmscC0ro",
        "outputId": "48863293-6daa-4100-df8c-82dcf51273f3"
      },
      "execution_count": 18,
      "outputs": [
        {
          "output_type": "execute_result",
          "data": {
            "text/plain": [
              "         YEAR  AGE  EDUC  ETHNIC  RACE  GENDER  SPHSERVICE  CMPSERVICE  \\\n",
              "0        2022   14    -9       3     3       2           2         1.0   \n",
              "1        2022    7     3       3     4       1           2         1.0   \n",
              "2        2022    8     3       3    -9       2           2         1.0   \n",
              "3        2022   14     4       4     2       2           1         1.0   \n",
              "4        2022    3    -9       4     6       2           2         1.0   \n",
              "...       ...  ...   ...     ...   ...     ...         ...         ...   \n",
              "6268095  2022    3     3       3     5       1           2         1.0   \n",
              "6268096  2022   13     4       4     5       1           2         1.0   \n",
              "6268097  2022    8    -9       4     6       1           2         1.0   \n",
              "6268098  2022   14     5       4     3       2           2         1.0   \n",
              "6268099  2022    7    -9       4     3       1           2         NaN   \n",
              "\n",
              "         OPISERVICE  RTCSERVICE  ...  ODDFLG  PDDFLG  PERSONFLG  SCHIZOFLG  \\\n",
              "0               2.0         2.0  ...     0.0     0.0        0.0        1.0   \n",
              "1               2.0         2.0  ...     0.0     0.0        0.0        1.0   \n",
              "2               1.0         2.0  ...     0.0     0.0        0.0        0.0   \n",
              "3               2.0         2.0  ...     0.0     0.0        0.0        1.0   \n",
              "4               1.0         2.0  ...     0.0     0.0        0.0        0.0   \n",
              "...             ...         ...  ...     ...     ...        ...        ...   \n",
              "6268095         2.0         2.0  ...     0.0     0.0        0.0        0.0   \n",
              "6268096         2.0         2.0  ...     0.0     0.0        0.0        1.0   \n",
              "6268097         2.0         2.0  ...     0.0     0.0        0.0        0.0   \n",
              "6268098         2.0         2.0  ...     0.0     0.0        0.0        0.0   \n",
              "6268099         NaN         NaN  ...     NaN     NaN        NaN        NaN   \n",
              "\n",
              "         ALCSUBFLG  OTHERDISFLG  STATEFIP  DIVISION  REGION        CASEID  \n",
              "0              0.0          0.0       1.0       6.0     3.0  2.022000e+10  \n",
              "1              0.0          0.0       1.0       6.0     3.0  2.022000e+10  \n",
              "2              0.0          0.0       1.0       6.0     3.0  2.022000e+10  \n",
              "3              0.0          0.0       1.0       6.0     3.0  2.022000e+10  \n",
              "4              0.0          0.0       1.0       6.0     3.0  2.022000e+10  \n",
              "...            ...          ...       ...       ...     ...           ...  \n",
              "6268095        0.0          0.0      48.0       7.0     3.0  2.022627e+10  \n",
              "6268096        0.0          0.0      48.0       7.0     3.0  2.022627e+10  \n",
              "6268097        0.0          0.0      48.0       7.0     3.0  2.022627e+10  \n",
              "6268098        0.0          0.0      48.0       7.0     3.0  2.022627e+10  \n",
              "6268099        NaN          NaN       NaN       NaN     NaN           NaN  \n",
              "\n",
              "[6268100 rows x 40 columns]"
            ],
            "text/html": [
              "\n",
              "  <div id=\"df-a4662e76-755c-4e27-ae85-e51a9b17a6e0\" class=\"colab-df-container\">\n",
              "    <div>\n",
              "<style scoped>\n",
              "    .dataframe tbody tr th:only-of-type {\n",
              "        vertical-align: middle;\n",
              "    }\n",
              "\n",
              "    .dataframe tbody tr th {\n",
              "        vertical-align: top;\n",
              "    }\n",
              "\n",
              "    .dataframe thead th {\n",
              "        text-align: right;\n",
              "    }\n",
              "</style>\n",
              "<table border=\"1\" class=\"dataframe\">\n",
              "  <thead>\n",
              "    <tr style=\"text-align: right;\">\n",
              "      <th></th>\n",
              "      <th>YEAR</th>\n",
              "      <th>AGE</th>\n",
              "      <th>EDUC</th>\n",
              "      <th>ETHNIC</th>\n",
              "      <th>RACE</th>\n",
              "      <th>GENDER</th>\n",
              "      <th>SPHSERVICE</th>\n",
              "      <th>CMPSERVICE</th>\n",
              "      <th>OPISERVICE</th>\n",
              "      <th>RTCSERVICE</th>\n",
              "      <th>...</th>\n",
              "      <th>ODDFLG</th>\n",
              "      <th>PDDFLG</th>\n",
              "      <th>PERSONFLG</th>\n",
              "      <th>SCHIZOFLG</th>\n",
              "      <th>ALCSUBFLG</th>\n",
              "      <th>OTHERDISFLG</th>\n",
              "      <th>STATEFIP</th>\n",
              "      <th>DIVISION</th>\n",
              "      <th>REGION</th>\n",
              "      <th>CASEID</th>\n",
              "    </tr>\n",
              "  </thead>\n",
              "  <tbody>\n",
              "    <tr>\n",
              "      <th>0</th>\n",
              "      <td>2022</td>\n",
              "      <td>14</td>\n",
              "      <td>-9</td>\n",
              "      <td>3</td>\n",
              "      <td>3</td>\n",
              "      <td>2</td>\n",
              "      <td>2</td>\n",
              "      <td>1.0</td>\n",
              "      <td>2.0</td>\n",
              "      <td>2.0</td>\n",
              "      <td>...</td>\n",
              "      <td>0.0</td>\n",
              "      <td>0.0</td>\n",
              "      <td>0.0</td>\n",
              "      <td>1.0</td>\n",
              "      <td>0.0</td>\n",
              "      <td>0.0</td>\n",
              "      <td>1.0</td>\n",
              "      <td>6.0</td>\n",
              "      <td>3.0</td>\n",
              "      <td>2.022000e+10</td>\n",
              "    </tr>\n",
              "    <tr>\n",
              "      <th>1</th>\n",
              "      <td>2022</td>\n",
              "      <td>7</td>\n",
              "      <td>3</td>\n",
              "      <td>3</td>\n",
              "      <td>4</td>\n",
              "      <td>1</td>\n",
              "      <td>2</td>\n",
              "      <td>1.0</td>\n",
              "      <td>2.0</td>\n",
              "      <td>2.0</td>\n",
              "      <td>...</td>\n",
              "      <td>0.0</td>\n",
              "      <td>0.0</td>\n",
              "      <td>0.0</td>\n",
              "      <td>1.0</td>\n",
              "      <td>0.0</td>\n",
              "      <td>0.0</td>\n",
              "      <td>1.0</td>\n",
              "      <td>6.0</td>\n",
              "      <td>3.0</td>\n",
              "      <td>2.022000e+10</td>\n",
              "    </tr>\n",
              "    <tr>\n",
              "      <th>2</th>\n",
              "      <td>2022</td>\n",
              "      <td>8</td>\n",
              "      <td>3</td>\n",
              "      <td>3</td>\n",
              "      <td>-9</td>\n",
              "      <td>2</td>\n",
              "      <td>2</td>\n",
              "      <td>1.0</td>\n",
              "      <td>1.0</td>\n",
              "      <td>2.0</td>\n",
              "      <td>...</td>\n",
              "      <td>0.0</td>\n",
              "      <td>0.0</td>\n",
              "      <td>0.0</td>\n",
              "      <td>0.0</td>\n",
              "      <td>0.0</td>\n",
              "      <td>0.0</td>\n",
              "      <td>1.0</td>\n",
              "      <td>6.0</td>\n",
              "      <td>3.0</td>\n",
              "      <td>2.022000e+10</td>\n",
              "    </tr>\n",
              "    <tr>\n",
              "      <th>3</th>\n",
              "      <td>2022</td>\n",
              "      <td>14</td>\n",
              "      <td>4</td>\n",
              "      <td>4</td>\n",
              "      <td>2</td>\n",
              "      <td>2</td>\n",
              "      <td>1</td>\n",
              "      <td>1.0</td>\n",
              "      <td>2.0</td>\n",
              "      <td>2.0</td>\n",
              "      <td>...</td>\n",
              "      <td>0.0</td>\n",
              "      <td>0.0</td>\n",
              "      <td>0.0</td>\n",
              "      <td>1.0</td>\n",
              "      <td>0.0</td>\n",
              "      <td>0.0</td>\n",
              "      <td>1.0</td>\n",
              "      <td>6.0</td>\n",
              "      <td>3.0</td>\n",
              "      <td>2.022000e+10</td>\n",
              "    </tr>\n",
              "    <tr>\n",
              "      <th>4</th>\n",
              "      <td>2022</td>\n",
              "      <td>3</td>\n",
              "      <td>-9</td>\n",
              "      <td>4</td>\n",
              "      <td>6</td>\n",
              "      <td>2</td>\n",
              "      <td>2</td>\n",
              "      <td>1.0</td>\n",
              "      <td>1.0</td>\n",
              "      <td>2.0</td>\n",
              "      <td>...</td>\n",
              "      <td>0.0</td>\n",
              "      <td>0.0</td>\n",
              "      <td>0.0</td>\n",
              "      <td>0.0</td>\n",
              "      <td>0.0</td>\n",
              "      <td>0.0</td>\n",
              "      <td>1.0</td>\n",
              "      <td>6.0</td>\n",
              "      <td>3.0</td>\n",
              "      <td>2.022000e+10</td>\n",
              "    </tr>\n",
              "    <tr>\n",
              "      <th>...</th>\n",
              "      <td>...</td>\n",
              "      <td>...</td>\n",
              "      <td>...</td>\n",
              "      <td>...</td>\n",
              "      <td>...</td>\n",
              "      <td>...</td>\n",
              "      <td>...</td>\n",
              "      <td>...</td>\n",
              "      <td>...</td>\n",
              "      <td>...</td>\n",
              "      <td>...</td>\n",
              "      <td>...</td>\n",
              "      <td>...</td>\n",
              "      <td>...</td>\n",
              "      <td>...</td>\n",
              "      <td>...</td>\n",
              "      <td>...</td>\n",
              "      <td>...</td>\n",
              "      <td>...</td>\n",
              "      <td>...</td>\n",
              "      <td>...</td>\n",
              "    </tr>\n",
              "    <tr>\n",
              "      <th>6268095</th>\n",
              "      <td>2022</td>\n",
              "      <td>3</td>\n",
              "      <td>3</td>\n",
              "      <td>3</td>\n",
              "      <td>5</td>\n",
              "      <td>1</td>\n",
              "      <td>2</td>\n",
              "      <td>1.0</td>\n",
              "      <td>2.0</td>\n",
              "      <td>2.0</td>\n",
              "      <td>...</td>\n",
              "      <td>0.0</td>\n",
              "      <td>0.0</td>\n",
              "      <td>0.0</td>\n",
              "      <td>0.0</td>\n",
              "      <td>0.0</td>\n",
              "      <td>0.0</td>\n",
              "      <td>48.0</td>\n",
              "      <td>7.0</td>\n",
              "      <td>3.0</td>\n",
              "      <td>2.022627e+10</td>\n",
              "    </tr>\n",
              "    <tr>\n",
              "      <th>6268096</th>\n",
              "      <td>2022</td>\n",
              "      <td>13</td>\n",
              "      <td>4</td>\n",
              "      <td>4</td>\n",
              "      <td>5</td>\n",
              "      <td>1</td>\n",
              "      <td>2</td>\n",
              "      <td>1.0</td>\n",
              "      <td>2.0</td>\n",
              "      <td>2.0</td>\n",
              "      <td>...</td>\n",
              "      <td>0.0</td>\n",
              "      <td>0.0</td>\n",
              "      <td>0.0</td>\n",
              "      <td>1.0</td>\n",
              "      <td>0.0</td>\n",
              "      <td>0.0</td>\n",
              "      <td>48.0</td>\n",
              "      <td>7.0</td>\n",
              "      <td>3.0</td>\n",
              "      <td>2.022627e+10</td>\n",
              "    </tr>\n",
              "    <tr>\n",
              "      <th>6268097</th>\n",
              "      <td>2022</td>\n",
              "      <td>8</td>\n",
              "      <td>-9</td>\n",
              "      <td>4</td>\n",
              "      <td>6</td>\n",
              "      <td>1</td>\n",
              "      <td>2</td>\n",
              "      <td>1.0</td>\n",
              "      <td>2.0</td>\n",
              "      <td>2.0</td>\n",
              "      <td>...</td>\n",
              "      <td>0.0</td>\n",
              "      <td>0.0</td>\n",
              "      <td>0.0</td>\n",
              "      <td>0.0</td>\n",
              "      <td>0.0</td>\n",
              "      <td>0.0</td>\n",
              "      <td>48.0</td>\n",
              "      <td>7.0</td>\n",
              "      <td>3.0</td>\n",
              "      <td>2.022627e+10</td>\n",
              "    </tr>\n",
              "    <tr>\n",
              "      <th>6268098</th>\n",
              "      <td>2022</td>\n",
              "      <td>14</td>\n",
              "      <td>5</td>\n",
              "      <td>4</td>\n",
              "      <td>3</td>\n",
              "      <td>2</td>\n",
              "      <td>2</td>\n",
              "      <td>1.0</td>\n",
              "      <td>2.0</td>\n",
              "      <td>2.0</td>\n",
              "      <td>...</td>\n",
              "      <td>0.0</td>\n",
              "      <td>0.0</td>\n",
              "      <td>0.0</td>\n",
              "      <td>0.0</td>\n",
              "      <td>0.0</td>\n",
              "      <td>0.0</td>\n",
              "      <td>48.0</td>\n",
              "      <td>7.0</td>\n",
              "      <td>3.0</td>\n",
              "      <td>2.022627e+10</td>\n",
              "    </tr>\n",
              "    <tr>\n",
              "      <th>6268099</th>\n",
              "      <td>2022</td>\n",
              "      <td>7</td>\n",
              "      <td>-9</td>\n",
              "      <td>4</td>\n",
              "      <td>3</td>\n",
              "      <td>1</td>\n",
              "      <td>2</td>\n",
              "      <td>NaN</td>\n",
              "      <td>NaN</td>\n",
              "      <td>NaN</td>\n",
              "      <td>...</td>\n",
              "      <td>NaN</td>\n",
              "      <td>NaN</td>\n",
              "      <td>NaN</td>\n",
              "      <td>NaN</td>\n",
              "      <td>NaN</td>\n",
              "      <td>NaN</td>\n",
              "      <td>NaN</td>\n",
              "      <td>NaN</td>\n",
              "      <td>NaN</td>\n",
              "      <td>NaN</td>\n",
              "    </tr>\n",
              "  </tbody>\n",
              "</table>\n",
              "<p>6268100 rows × 40 columns</p>\n",
              "</div>\n",
              "    <div class=\"colab-df-buttons\">\n",
              "\n",
              "  <div class=\"colab-df-container\">\n",
              "    <button class=\"colab-df-convert\" onclick=\"convertToInteractive('df-a4662e76-755c-4e27-ae85-e51a9b17a6e0')\"\n",
              "            title=\"Convert this dataframe to an interactive table.\"\n",
              "            style=\"display:none;\">\n",
              "\n",
              "  <svg xmlns=\"http://www.w3.org/2000/svg\" height=\"24px\" viewBox=\"0 -960 960 960\">\n",
              "    <path d=\"M120-120v-720h720v720H120Zm60-500h600v-160H180v160Zm220 220h160v-160H400v160Zm0 220h160v-160H400v160ZM180-400h160v-160H180v160Zm440 0h160v-160H620v160ZM180-180h160v-160H180v160Zm440 0h160v-160H620v160Z\"/>\n",
              "  </svg>\n",
              "    </button>\n",
              "\n",
              "  <style>\n",
              "    .colab-df-container {\n",
              "      display:flex;\n",
              "      gap: 12px;\n",
              "    }\n",
              "\n",
              "    .colab-df-convert {\n",
              "      background-color: #E8F0FE;\n",
              "      border: none;\n",
              "      border-radius: 50%;\n",
              "      cursor: pointer;\n",
              "      display: none;\n",
              "      fill: #1967D2;\n",
              "      height: 32px;\n",
              "      padding: 0 0 0 0;\n",
              "      width: 32px;\n",
              "    }\n",
              "\n",
              "    .colab-df-convert:hover {\n",
              "      background-color: #E2EBFA;\n",
              "      box-shadow: 0px 1px 2px rgba(60, 64, 67, 0.3), 0px 1px 3px 1px rgba(60, 64, 67, 0.15);\n",
              "      fill: #174EA6;\n",
              "    }\n",
              "\n",
              "    .colab-df-buttons div {\n",
              "      margin-bottom: 4px;\n",
              "    }\n",
              "\n",
              "    [theme=dark] .colab-df-convert {\n",
              "      background-color: #3B4455;\n",
              "      fill: #D2E3FC;\n",
              "    }\n",
              "\n",
              "    [theme=dark] .colab-df-convert:hover {\n",
              "      background-color: #434B5C;\n",
              "      box-shadow: 0px 1px 3px 1px rgba(0, 0, 0, 0.15);\n",
              "      filter: drop-shadow(0px 1px 2px rgba(0, 0, 0, 0.3));\n",
              "      fill: #FFFFFF;\n",
              "    }\n",
              "  </style>\n",
              "\n",
              "    <script>\n",
              "      const buttonEl =\n",
              "        document.querySelector('#df-a4662e76-755c-4e27-ae85-e51a9b17a6e0 button.colab-df-convert');\n",
              "      buttonEl.style.display =\n",
              "        google.colab.kernel.accessAllowed ? 'block' : 'none';\n",
              "\n",
              "      async function convertToInteractive(key) {\n",
              "        const element = document.querySelector('#df-a4662e76-755c-4e27-ae85-e51a9b17a6e0');\n",
              "        const dataTable =\n",
              "          await google.colab.kernel.invokeFunction('convertToInteractive',\n",
              "                                                    [key], {});\n",
              "        if (!dataTable) return;\n",
              "\n",
              "        const docLinkHtml = 'Like what you see? Visit the ' +\n",
              "          '<a target=\"_blank\" href=https://colab.research.google.com/notebooks/data_table.ipynb>data table notebook</a>'\n",
              "          + ' to learn more about interactive tables.';\n",
              "        element.innerHTML = '';\n",
              "        dataTable['output_type'] = 'display_data';\n",
              "        await google.colab.output.renderOutput(dataTable, element);\n",
              "        const docLink = document.createElement('div');\n",
              "        docLink.innerHTML = docLinkHtml;\n",
              "        element.appendChild(docLink);\n",
              "      }\n",
              "    </script>\n",
              "  </div>\n",
              "\n",
              "\n",
              "    <div id=\"df-2566c0f8-4314-4de2-929d-e5b51e350d01\">\n",
              "      <button class=\"colab-df-quickchart\" onclick=\"quickchart('df-2566c0f8-4314-4de2-929d-e5b51e350d01')\"\n",
              "                title=\"Suggest charts\"\n",
              "                style=\"display:none;\">\n",
              "\n",
              "<svg xmlns=\"http://www.w3.org/2000/svg\" height=\"24px\"viewBox=\"0 0 24 24\"\n",
              "     width=\"24px\">\n",
              "    <g>\n",
              "        <path d=\"M19 3H5c-1.1 0-2 .9-2 2v14c0 1.1.9 2 2 2h14c1.1 0 2-.9 2-2V5c0-1.1-.9-2-2-2zM9 17H7v-7h2v7zm4 0h-2V7h2v10zm4 0h-2v-4h2v4z\"/>\n",
              "    </g>\n",
              "</svg>\n",
              "      </button>\n",
              "\n",
              "<style>\n",
              "  .colab-df-quickchart {\n",
              "      --bg-color: #E8F0FE;\n",
              "      --fill-color: #1967D2;\n",
              "      --hover-bg-color: #E2EBFA;\n",
              "      --hover-fill-color: #174EA6;\n",
              "      --disabled-fill-color: #AAA;\n",
              "      --disabled-bg-color: #DDD;\n",
              "  }\n",
              "\n",
              "  [theme=dark] .colab-df-quickchart {\n",
              "      --bg-color: #3B4455;\n",
              "      --fill-color: #D2E3FC;\n",
              "      --hover-bg-color: #434B5C;\n",
              "      --hover-fill-color: #FFFFFF;\n",
              "      --disabled-bg-color: #3B4455;\n",
              "      --disabled-fill-color: #666;\n",
              "  }\n",
              "\n",
              "  .colab-df-quickchart {\n",
              "    background-color: var(--bg-color);\n",
              "    border: none;\n",
              "    border-radius: 50%;\n",
              "    cursor: pointer;\n",
              "    display: none;\n",
              "    fill: var(--fill-color);\n",
              "    height: 32px;\n",
              "    padding: 0;\n",
              "    width: 32px;\n",
              "  }\n",
              "\n",
              "  .colab-df-quickchart:hover {\n",
              "    background-color: var(--hover-bg-color);\n",
              "    box-shadow: 0 1px 2px rgba(60, 64, 67, 0.3), 0 1px 3px 1px rgba(60, 64, 67, 0.15);\n",
              "    fill: var(--button-hover-fill-color);\n",
              "  }\n",
              "\n",
              "  .colab-df-quickchart-complete:disabled,\n",
              "  .colab-df-quickchart-complete:disabled:hover {\n",
              "    background-color: var(--disabled-bg-color);\n",
              "    fill: var(--disabled-fill-color);\n",
              "    box-shadow: none;\n",
              "  }\n",
              "\n",
              "  .colab-df-spinner {\n",
              "    border: 2px solid var(--fill-color);\n",
              "    border-color: transparent;\n",
              "    border-bottom-color: var(--fill-color);\n",
              "    animation:\n",
              "      spin 1s steps(1) infinite;\n",
              "  }\n",
              "\n",
              "  @keyframes spin {\n",
              "    0% {\n",
              "      border-color: transparent;\n",
              "      border-bottom-color: var(--fill-color);\n",
              "      border-left-color: var(--fill-color);\n",
              "    }\n",
              "    20% {\n",
              "      border-color: transparent;\n",
              "      border-left-color: var(--fill-color);\n",
              "      border-top-color: var(--fill-color);\n",
              "    }\n",
              "    30% {\n",
              "      border-color: transparent;\n",
              "      border-left-color: var(--fill-color);\n",
              "      border-top-color: var(--fill-color);\n",
              "      border-right-color: var(--fill-color);\n",
              "    }\n",
              "    40% {\n",
              "      border-color: transparent;\n",
              "      border-right-color: var(--fill-color);\n",
              "      border-top-color: var(--fill-color);\n",
              "    }\n",
              "    60% {\n",
              "      border-color: transparent;\n",
              "      border-right-color: var(--fill-color);\n",
              "    }\n",
              "    80% {\n",
              "      border-color: transparent;\n",
              "      border-right-color: var(--fill-color);\n",
              "      border-bottom-color: var(--fill-color);\n",
              "    }\n",
              "    90% {\n",
              "      border-color: transparent;\n",
              "      border-bottom-color: var(--fill-color);\n",
              "    }\n",
              "  }\n",
              "</style>\n",
              "\n",
              "      <script>\n",
              "        async function quickchart(key) {\n",
              "          const quickchartButtonEl =\n",
              "            document.querySelector('#' + key + ' button');\n",
              "          quickchartButtonEl.disabled = true;  // To prevent multiple clicks.\n",
              "          quickchartButtonEl.classList.add('colab-df-spinner');\n",
              "          try {\n",
              "            const charts = await google.colab.kernel.invokeFunction(\n",
              "                'suggestCharts', [key], {});\n",
              "          } catch (error) {\n",
              "            console.error('Error during call to suggestCharts:', error);\n",
              "          }\n",
              "          quickchartButtonEl.classList.remove('colab-df-spinner');\n",
              "          quickchartButtonEl.classList.add('colab-df-quickchart-complete');\n",
              "        }\n",
              "        (() => {\n",
              "          let quickchartButtonEl =\n",
              "            document.querySelector('#df-2566c0f8-4314-4de2-929d-e5b51e350d01 button');\n",
              "          quickchartButtonEl.style.display =\n",
              "            google.colab.kernel.accessAllowed ? 'block' : 'none';\n",
              "        })();\n",
              "      </script>\n",
              "    </div>\n",
              "\n",
              "  <div id=\"id_30000f4a-a855-4491-99a2-c1da3bda64db\">\n",
              "    <style>\n",
              "      .colab-df-generate {\n",
              "        background-color: #E8F0FE;\n",
              "        border: none;\n",
              "        border-radius: 50%;\n",
              "        cursor: pointer;\n",
              "        display: none;\n",
              "        fill: #1967D2;\n",
              "        height: 32px;\n",
              "        padding: 0 0 0 0;\n",
              "        width: 32px;\n",
              "      }\n",
              "\n",
              "      .colab-df-generate:hover {\n",
              "        background-color: #E2EBFA;\n",
              "        box-shadow: 0px 1px 2px rgba(60, 64, 67, 0.3), 0px 1px 3px 1px rgba(60, 64, 67, 0.15);\n",
              "        fill: #174EA6;\n",
              "      }\n",
              "\n",
              "      [theme=dark] .colab-df-generate {\n",
              "        background-color: #3B4455;\n",
              "        fill: #D2E3FC;\n",
              "      }\n",
              "\n",
              "      [theme=dark] .colab-df-generate:hover {\n",
              "        background-color: #434B5C;\n",
              "        box-shadow: 0px 1px 3px 1px rgba(0, 0, 0, 0.15);\n",
              "        filter: drop-shadow(0px 1px 2px rgba(0, 0, 0, 0.3));\n",
              "        fill: #FFFFFF;\n",
              "      }\n",
              "    </style>\n",
              "    <button class=\"colab-df-generate\" onclick=\"generateWithVariable('df')\"\n",
              "            title=\"Generate code using this dataframe.\"\n",
              "            style=\"display:none;\">\n",
              "\n",
              "  <svg xmlns=\"http://www.w3.org/2000/svg\" height=\"24px\"viewBox=\"0 0 24 24\"\n",
              "       width=\"24px\">\n",
              "    <path d=\"M7,19H8.4L18.45,9,17,7.55,7,17.6ZM5,21V16.75L18.45,3.32a2,2,0,0,1,2.83,0l1.4,1.43a1.91,1.91,0,0,1,.58,1.4,1.91,1.91,0,0,1-.58,1.4L9.25,21ZM18.45,9,17,7.55Zm-12,3A5.31,5.31,0,0,0,4.9,8.1,5.31,5.31,0,0,0,1,6.5,5.31,5.31,0,0,0,4.9,4.9,5.31,5.31,0,0,0,6.5,1,5.31,5.31,0,0,0,8.1,4.9,5.31,5.31,0,0,0,12,6.5,5.46,5.46,0,0,0,6.5,12Z\"/>\n",
              "  </svg>\n",
              "    </button>\n",
              "    <script>\n",
              "      (() => {\n",
              "      const buttonEl =\n",
              "        document.querySelector('#id_30000f4a-a855-4491-99a2-c1da3bda64db button.colab-df-generate');\n",
              "      buttonEl.style.display =\n",
              "        google.colab.kernel.accessAllowed ? 'block' : 'none';\n",
              "\n",
              "      buttonEl.onclick = () => {\n",
              "        google.colab.notebook.generateWithVariable('df');\n",
              "      }\n",
              "      })();\n",
              "    </script>\n",
              "  </div>\n",
              "\n",
              "    </div>\n",
              "  </div>\n"
            ],
            "application/vnd.google.colaboratory.intrinsic+json": {
              "type": "dataframe",
              "variable_name": "df"
            }
          },
          "metadata": {},
          "execution_count": 18
        }
      ]
    },
    {
      "cell_type": "markdown",
      "source": [
        "전반적으로 정규화는 이미 잘 된 데이터같은데 문제는 설문조사 이런게 하나로 통합 된 게 아닌거같아서 아예 답변 없는 데이터들이 있는 거 같아요"
      ],
      "metadata": {
        "id": "ywOOte3NuOqy"
      }
    },
    {
      "cell_type": "markdown",
      "source": [
        "## 기본적인 전처리\n",
        "\n",
        "### AGE, EDUC ordinal 변수 0에서 부터 시작"
      ],
      "metadata": {
        "id": "iRUp24xmHgnc"
      }
    },
    {
      "cell_type": "code",
      "source": [
        "# AGE 조정\n",
        "df_edit['AGE'] = df_edit['AGE'].apply(lambda x: x - 1 if x > 0 else x)\n",
        "\n",
        "# EDUC 조정\n",
        "df_edit['EDUC'] = df_edit['EDUC'].apply(lambda x: x - 1 if x > 0 else x)"
      ],
      "metadata": {
        "id": "sai15W3PHmd-"
      },
      "execution_count": 20,
      "outputs": []
    },
    {
      "cell_type": "markdown",
      "source": [
        "### -9가 결측치 말고 해당 없음인 곳 바꿈\n",
        "\n",
        "해당 없음인 경우 -99로 함."
      ],
      "metadata": {
        "id": "A0BICl3_IWED"
      }
    },
    {
      "cell_type": "code",
      "source": [
        "df_edit.loc[df['EMPLOY'] != 5, 'DETNLF'] = -99\n",
        "# MH1 유효값은 1~13, -9는 무효로 간주\n",
        "valid_mh1 = df_edit['MH1'].between(1, 13)\n",
        "\n",
        "df_edit.loc[df_edit['MH1'] == -9, 'MH1'] = -99\n",
        "# MH2가 -9이고 MH1만 유효한 경우 → MH2는 해당 없음\n",
        "df_edit.loc[valid_mh1 & (df_edit['MH2'] == -9), 'MH2'] = -99\n",
        "\n",
        "# MH3도 동일하게 처리\n",
        "df_edit.loc[valid_mh1 & (df_edit['MH3'] == -9), 'MH3'] = -99\n",
        "\n",
        "df_edit.loc[df_edit['SUB'] == -9, 'SUB'] = -99\n",
        "\n",
        "df_edit.loc[df_edit['SAP'] == -9, 'SAP'] = -99"
      ],
      "metadata": {
        "id": "c6I9V44gIg49"
      },
      "execution_count": 21,
      "outputs": []
    },
    {
      "cell_type": "markdown",
      "source": [
        "### 예 아니오 인 경우 1,2 인 거 0 1 로 변수 고정"
      ],
      "metadata": {
        "id": "aSl4g4oTe7vc"
      }
    },
    {
      "cell_type": "code",
      "source": [
        "var=['SPHSERVICE','CMPSERVICE','RTCSERVICE','IJSSERVICE','VETERAN']\n",
        "for col in var:\n",
        "    df_edit[col] = df_edit[col].replace(2, 0)"
      ],
      "metadata": {
        "id": "7PPpNu11gBq7"
      },
      "execution_count": 22,
      "outputs": []
    },
    {
      "cell_type": "markdown",
      "source": [
        "## 결측시각화"
      ],
      "metadata": {
        "id": "wZAhd0kvAhVn"
      }
    },
    {
      "cell_type": "code",
      "source": [
        "df_missing = df_edit.replace(-9, pd.NA)\n",
        "msno.matrix(df_missing)\n",
        "msno.heatmap(df_missing)"
      ],
      "metadata": {
        "id": "SnvQtlVpAglc"
      },
      "execution_count": null,
      "outputs": []
    },
    {
      "cell_type": "markdown",
      "source": [
        "여기서 특정 칼럼이 결측치가 너무 많아서 이게 왜 이런지 좀 알아봐야할 것 같음"
      ],
      "metadata": {
        "id": "iAy_5d2Wr0H4"
      }
    },
    {
      "cell_type": "markdown",
      "source": [
        "EDUC가 -9 너무 많아서 지역별로 EDUC 결측 비율 봤는데 설문조사가 지역별로 다른 거 같다."
      ],
      "metadata": {
        "id": "Z3k5eT55sJLH"
      }
    },
    {
      "cell_type": "code",
      "source": [
        "df_edit['EDUC_missing'] = df_edit['EDUC'] == -9\n",
        "edu_missing_by_state = df_edit.groupby('STATEFIP')['EDUC_missing'].mean().sort_values(ascending=False)\n",
        "print(edu_missing_by_state.head())\n"
      ],
      "metadata": {
        "colab": {
          "base_uri": "https://localhost:8080/"
        },
        "id": "_anW9lRvxBCm",
        "outputId": "1bcc0a9a-e8ff-4280-8b9a-9143a511d93c"
      },
      "execution_count": null,
      "outputs": [
        {
          "output_type": "stream",
          "name": "stdout",
          "text": [
            "STATEFIP\n",
            "5     1.0\n",
            "6     1.0\n",
            "19    1.0\n",
            "35    1.0\n",
            "44    1.0\n",
            "Name: EDUC_missing, dtype: float64\n"
          ]
        }
      ]
    },
    {
      "cell_type": "markdown",
      "source": [
        "단순하게 결측치 있는걸 다 삭제해버리면 데이터 양이 1/6 이 됨 이래도 100만개긴한데"
      ],
      "metadata": {
        "id": "R2at8eJZudsj"
      }
    },
    {
      "cell_type": "markdown",
      "source": [
        "required_cols : 결측치 존재하는데 결측치가 있으면 안되는 칼럼 모음"
      ],
      "metadata": {
        "id": "bOgAJ5BK6lQk"
      }
    },
    {
      "cell_type": "markdown",
      "source": [
        "### 모든 -9 행들이 제거된 데이터"
      ],
      "metadata": {
        "id": "--pJwPRyjnoL"
      }
    },
    {
      "cell_type": "code",
      "source": [
        "required_cols = ['AGE', 'GENDER', 'RACE', 'ETHNIC', 'MARSTAT', 'VETERAN', 'EDUC', 'EMPLOY']\n",
        "df_row_filtered = df_edit[~df_edit.isin([-9]).any(axis=1)]  # -9 있는 행 제거\n"
      ],
      "metadata": {
        "id": "h_uBaPp_waB2"
      },
      "execution_count": null,
      "outputs": []
    },
    {
      "cell_type": "code",
      "source": [
        "(df_row_filtered == -9).any(axis=1).sum()\n"
      ],
      "metadata": {
        "colab": {
          "base_uri": "https://localhost:8080/"
        },
        "id": "ABwOGrrWv8DM",
        "outputId": "a97df87a-2720-410d-96a2-72e6d41e8339"
      },
      "execution_count": null,
      "outputs": [
        {
          "output_type": "execute_result",
          "data": {
            "text/plain": [
              "np.int64(0)"
            ]
          },
          "metadata": {},
          "execution_count": 14
        }
      ]
    },
    {
      "cell_type": "code",
      "source": [
        "len(df_row_filtered)"
      ],
      "metadata": {
        "colab": {
          "base_uri": "https://localhost:8080/"
        },
        "id": "NruyKQahwg-B",
        "outputId": "d2c66964-b5e1-4d6f-a20e-c75bcd847807"
      },
      "execution_count": null,
      "outputs": [
        {
          "output_type": "execute_result",
          "data": {
            "text/plain": [
              "1066085"
            ]
          },
          "metadata": {},
          "execution_count": 15
        }
      ]
    },
    {
      "cell_type": "code",
      "source": [
        "df_row_filtered.to_csv(\"-9row_remove.csv\", index=False)\n"
      ],
      "metadata": {
        "id": "Lg4x58TSwt6H"
      },
      "execution_count": null,
      "outputs": []
    },
    {
      "cell_type": "markdown",
      "source": [
        "## 지역별로 결측 비율"
      ],
      "metadata": {
        "id": "Upe1vW81uqzx"
      }
    },
    {
      "cell_type": "code",
      "source": [
        "\n",
        "# -9를 NaN으로 바꿔서 결측 처리\n",
        "df_replaced = df[required_cols + ['DIVISION']].replace(-9, pd.NA)\n",
        "\n",
        "# 주별 결측률 계산 함수\n",
        "missing_by_state = df_replaced.groupby('DIVISION').apply(lambda g: g.isna().mean())\n",
        "\n",
        "# 보기 좋게 퍼센트화\n",
        "missing_by_state = missing_by_state * 100\n"
      ],
      "metadata": {
        "colab": {
          "base_uri": "https://localhost:8080/"
        },
        "id": "mvtjDOHIzHSy",
        "outputId": "b7727da3-3c04-4e64-84bc-0b60b89a96c3"
      },
      "execution_count": null,
      "outputs": [
        {
          "output_type": "stream",
          "name": "stderr",
          "text": [
            "<ipython-input-27-6ddfddf1e198>:8: DeprecationWarning: DataFrameGroupBy.apply operated on the grouping columns. This behavior is deprecated, and in a future version of pandas the grouping columns will be excluded from the operation. Either pass `include_groups=False` to exclude the groupings or explicitly select the grouping columns after groupby to silence this warning.\n",
            "  missing_by_state = df_replaced.groupby('DIVISION').apply(lambda g: g.isna().mean())\n"
          ]
        }
      ]
    },
    {
      "cell_type": "code",
      "source": [
        "import seaborn as sns\n",
        "import matplotlib.pyplot as plt\n",
        "\n",
        "plt.figure(figsize=(12, 6))\n",
        "sns.heatmap(missing_by_state, cmap='Reds', annot=True, fmt=\".1f\")\n",
        "plt.title(\"주별 변수별 결측률 (%)\")\n",
        "plt.ylabel(\"주 코드 (DIVISION)\")\n",
        "plt.show()\n"
      ],
      "metadata": {
        "colab": {
          "base_uri": "https://localhost:8080/",
          "height": 735
        },
        "id": "r2f9bWPZzN1K",
        "outputId": "739da5ac-362b-4c7a-cab8-1913a722c610"
      },
      "execution_count": null,
      "outputs": [
        {
          "output_type": "stream",
          "name": "stderr",
          "text": [
            "/usr/local/lib/python3.11/dist-packages/IPython/core/pylabtools.py:151: UserWarning: Glyph 51452 (\\N{HANGUL SYLLABLE JU}) missing from font(s) DejaVu Sans.\n",
            "  fig.canvas.print_figure(bytes_io, **kw)\n",
            "/usr/local/lib/python3.11/dist-packages/IPython/core/pylabtools.py:151: UserWarning: Glyph 53076 (\\N{HANGUL SYLLABLE KO}) missing from font(s) DejaVu Sans.\n",
            "  fig.canvas.print_figure(bytes_io, **kw)\n",
            "/usr/local/lib/python3.11/dist-packages/IPython/core/pylabtools.py:151: UserWarning: Glyph 46300 (\\N{HANGUL SYLLABLE DEU}) missing from font(s) DejaVu Sans.\n",
            "  fig.canvas.print_figure(bytes_io, **kw)\n",
            "/usr/local/lib/python3.11/dist-packages/IPython/core/pylabtools.py:151: UserWarning: Glyph 48324 (\\N{HANGUL SYLLABLE BYEOL}) missing from font(s) DejaVu Sans.\n",
            "  fig.canvas.print_figure(bytes_io, **kw)\n",
            "/usr/local/lib/python3.11/dist-packages/IPython/core/pylabtools.py:151: UserWarning: Glyph 48320 (\\N{HANGUL SYLLABLE BYEON}) missing from font(s) DejaVu Sans.\n",
            "  fig.canvas.print_figure(bytes_io, **kw)\n",
            "/usr/local/lib/python3.11/dist-packages/IPython/core/pylabtools.py:151: UserWarning: Glyph 49688 (\\N{HANGUL SYLLABLE SU}) missing from font(s) DejaVu Sans.\n",
            "  fig.canvas.print_figure(bytes_io, **kw)\n",
            "/usr/local/lib/python3.11/dist-packages/IPython/core/pylabtools.py:151: UserWarning: Glyph 44208 (\\N{HANGUL SYLLABLE GYEOL}) missing from font(s) DejaVu Sans.\n",
            "  fig.canvas.print_figure(bytes_io, **kw)\n",
            "/usr/local/lib/python3.11/dist-packages/IPython/core/pylabtools.py:151: UserWarning: Glyph 52769 (\\N{HANGUL SYLLABLE CEUG}) missing from font(s) DejaVu Sans.\n",
            "  fig.canvas.print_figure(bytes_io, **kw)\n",
            "/usr/local/lib/python3.11/dist-packages/IPython/core/pylabtools.py:151: UserWarning: Glyph 47456 (\\N{HANGUL SYLLABLE RYUL}) missing from font(s) DejaVu Sans.\n",
            "  fig.canvas.print_figure(bytes_io, **kw)\n"
          ]
        },
        {
          "output_type": "display_data",
          "data": {
            "text/plain": [
              "<Figure size 1200x600 with 2 Axes>"
            ],
            "image/png": "[encoded data removed]"
          },
          "metadata": {}
        }
      ]
    },
    {
      "cell_type": "markdown",
      "source": [
        "division 9 소속 주 별"
      ],
      "metadata": {
        "id": "yjg0ontdySUy"
      }
    },
    {
      "cell_type": "code",
      "source": [
        "division9_states = [53, 41, 15, 6, 2]  # Washington, Oregon, Hawaii, California, Alaska\n"
      ],
      "metadata": {
        "id": "z3TlblR09rfH"
      },
      "execution_count": null,
      "outputs": []
    },
    {
      "cell_type": "code",
      "source": [
        "# -9를 NA로 바꾸고 필요한 변수만 유지\n",
        "df_div9 = df[df['STATEFIP'].isin(division9_states)]\n",
        "df_div9_clean = df_div9[required_cols + ['STATEFIP']].replace(-9, pd.NA)\n",
        "\n",
        "# 주별 결측률 계산\n",
        "missing_by_state_div9 = df_div9_clean.groupby('STATEFIP').apply(lambda g: g.isna().mean()) * 100\n"
      ],
      "metadata": {
        "colab": {
          "base_uri": "https://localhost:8080/"
        },
        "id": "YKQb8nMA9OfT",
        "outputId": "b7e462dd-aae2-48d6-e6f9-fb90307aa1e2"
      },
      "execution_count": null,
      "outputs": [
        {
          "output_type": "stream",
          "name": "stderr",
          "text": [
            "<ipython-input-33-353385c9c44c>:6: DeprecationWarning: DataFrameGroupBy.apply operated on the grouping columns. This behavior is deprecated, and in a future version of pandas the grouping columns will be excluded from the operation. Either pass `include_groups=False` to exclude the groupings or explicitly select the grouping columns after groupby to silence this warning.\n",
            "  missing_by_state_div9 = df_div9_clean.groupby('STATEFIP').apply(lambda g: g.isna().mean()) * 100\n"
          ]
        }
      ]
    },
    {
      "cell_type": "code",
      "source": [
        "plt.figure(figsize=(10, 5))\n",
        "sns.heatmap(missing_by_state_div9, annot=True, cmap=\"Reds\", fmt=\".1f\")\n",
        "plt.title(\"DIVISION 9 주요 변수 결측률 (%)\")\n",
        "plt.ylabel(\"주 (STATEFIP)\")\n",
        "plt.xlabel(\"변수\")\n",
        "plt.show()"
      ],
      "metadata": {
        "colab": {
          "base_uri": "https://localhost:8080/",
          "height": 764
        },
        "id": "R0wSXogF944E",
        "outputId": "da1c294f-dbe1-4649-e18c-593499413b1e"
      },
      "execution_count": null,
      "outputs": [
        {
          "output_type": "stream",
          "name": "stderr",
          "text": [
            "/usr/local/lib/python3.11/dist-packages/IPython/core/pylabtools.py:151: UserWarning: Glyph 51452 (\\N{HANGUL SYLLABLE JU}) missing from font(s) DejaVu Sans.\n",
            "  fig.canvas.print_figure(bytes_io, **kw)\n",
            "/usr/local/lib/python3.11/dist-packages/IPython/core/pylabtools.py:151: UserWarning: Glyph 50836 (\\N{HANGUL SYLLABLE YO}) missing from font(s) DejaVu Sans.\n",
            "  fig.canvas.print_figure(bytes_io, **kw)\n",
            "/usr/local/lib/python3.11/dist-packages/IPython/core/pylabtools.py:151: UserWarning: Glyph 48320 (\\N{HANGUL SYLLABLE BYEON}) missing from font(s) DejaVu Sans.\n",
            "  fig.canvas.print_figure(bytes_io, **kw)\n",
            "/usr/local/lib/python3.11/dist-packages/IPython/core/pylabtools.py:151: UserWarning: Glyph 49688 (\\N{HANGUL SYLLABLE SU}) missing from font(s) DejaVu Sans.\n",
            "  fig.canvas.print_figure(bytes_io, **kw)\n",
            "/usr/local/lib/python3.11/dist-packages/IPython/core/pylabtools.py:151: UserWarning: Glyph 44208 (\\N{HANGUL SYLLABLE GYEOL}) missing from font(s) DejaVu Sans.\n",
            "  fig.canvas.print_figure(bytes_io, **kw)\n",
            "/usr/local/lib/python3.11/dist-packages/IPython/core/pylabtools.py:151: UserWarning: Glyph 52769 (\\N{HANGUL SYLLABLE CEUG}) missing from font(s) DejaVu Sans.\n",
            "  fig.canvas.print_figure(bytes_io, **kw)\n",
            "/usr/local/lib/python3.11/dist-packages/IPython/core/pylabtools.py:151: UserWarning: Glyph 47456 (\\N{HANGUL SYLLABLE RYUL}) missing from font(s) DejaVu Sans.\n",
            "  fig.canvas.print_figure(bytes_io, **kw)\n"
          ]
        },
        {
          "output_type": "display_data",
          "data": {
            "text/plain": [
              "<Figure size 1000x500 with 2 Axes>"
            ],
            "image/png": "[encoded data removed]"
          },
          "metadata": {}
        }
      ]
    },
    {
      "cell_type": "markdown",
      "source": [
        "지역 별로 설문조사 칼럼이 좀 다른듯"
      ],
      "metadata": {
        "id": "7Synm7CSy29Z"
      }
    },
    {
      "cell_type": "markdown",
      "source": [
        "### 주 별 결측치 비율"
      ],
      "metadata": {
        "id": "1EMPrzGO1rv2"
      }
    },
    {
      "cell_type": "code",
      "source": [
        "\n",
        "# 결측 여부 플래그\n",
        "df['ANY_MISSING_STATE'] = df[required_cols].isin([-9]).any(axis=1)\n"
      ],
      "metadata": {
        "id": "tym0rGY3y7m0"
      },
      "execution_count": null,
      "outputs": []
    },
    {
      "cell_type": "code",
      "source": [
        "# 전체 수\n",
        "total_state = df['STATEFIP'].value_counts(normalize=True) * 100\n",
        "\n",
        "# 결측 그룹\n",
        "missing_state = df[df['ANY_MISSING_STATE']]['STATEFIP'].value_counts(normalize=True) * 100\n",
        "\n",
        "# 비결측 그룹\n",
        "non_missing_state = df[~df['ANY_MISSING_STATE']]['STATEFIP'].value_counts(normalize=True) * 100\n",
        "\n",
        "# 비교 테이블 생성\n",
        "state_comp = pd.DataFrame({\n",
        "    'total rate': total_state,\n",
        "    'missing rate': missing_state,\n",
        "    'non missing rate': non_missing_state\n",
        "}).fillna(0)\n"
      ],
      "metadata": {
        "id": "kUqDHTnDy9xW"
      },
      "execution_count": null,
      "outputs": []
    },
    {
      "cell_type": "code",
      "source": [
        "state_comp.sort_values('total rate', ascending=False).plot(kind='bar', figsize=(16,6))\n",
        "plt.title(\"STATEFIP별 full vs missing vs non-missing rate compare\")\n",
        "plt.ylabel(\"rate (%)\")\n",
        "plt.grid(axis='y')\n",
        "plt.show()\n"
      ],
      "metadata": {
        "colab": {
          "base_uri": "https://localhost:8080/",
          "height": 339
        },
        "id": "4ss2Tq1zz5b3",
        "outputId": "2e76ecb7-b903-4362-e40e-3ebb461f098d"
      },
      "execution_count": null,
      "outputs": [
        {
          "output_type": "stream",
          "name": "stderr",
          "text": [
            "/usr/local/lib/python3.11/dist-packages/IPython/core/pylabtools.py:151: UserWarning: Glyph 48324 (\\N{HANGUL SYLLABLE BYEOL}) missing from font(s) DejaVu Sans.\n",
            "  fig.canvas.print_figure(bytes_io, **kw)\n"
          ]
        },
        {
          "output_type": "display_data",
          "data": {
            "text/plain": [
              "<Figure size 1600x600 with 1 Axes>"
            ],
            "image/png": "[encoded data removed]"
          },
          "metadata": {}
        }
      ]
    },
    {
      "cell_type": "markdown",
      "source": [
        "STATEFIP == 6 (California), 42, 48, 4 : 결측이 많음\n",
        "\n",
        "STATEFIP == 53, 19, 26 : 결측이 별로 없음\n",
        "\n",
        "주별로 설문조사 문항이 달랐던 거 같아서 그런 경우 분리할 예정"
      ],
      "metadata": {
        "id": "8CfehmIL0dzv"
      }
    },
    {
      "cell_type": "markdown",
      "source": [
        "## REGION도 있어서 이것도 시각화"
      ],
      "metadata": {
        "id": "QM4_km6E4-LK"
      }
    },
    {
      "cell_type": "code",
      "source": [
        "\n",
        "df['ANY_MISSING_REGION'] = df[required_cols].isin([-9]).any(axis=1)\n",
        "region_labels = ['Other', 'Northeast', 'Midwest', 'South', 'West']\n",
        "\n",
        "missing_rate_by_region = df.groupby('REGION')['ANY_MISSING_REGION'].mean() * 100\n",
        "\n",
        "plt.figure(figsize=(6,4))\n",
        "missing_rate_by_region.plot(kind='bar', color='coral')\n",
        "plt.xticks(ticks=range(5), labels=region_labels, rotation=45)\n",
        "plt.title(\"REGION별 결측률 (%)\")\n",
        "plt.ylabel(\"결측 비율 (%)\")\n",
        "plt.grid(axis='y')\n",
        "plt.tight_layout()\n",
        "plt.show()\n"
      ],
      "metadata": {
        "colab": {
          "base_uri": "https://localhost:8080/",
          "height": 868
        },
        "id": "aE-w7lwQ5FMU",
        "outputId": "e95321da-b264-4248-bad5-383af2ff29ee"
      },
      "execution_count": null,
      "outputs": [
        {
          "output_type": "stream",
          "name": "stderr",
          "text": [
            "<ipython-input-16-ec520c608995>:13: UserWarning: Glyph 44208 (\\N{HANGUL SYLLABLE GYEOL}) missing from font(s) DejaVu Sans.\n",
            "  plt.tight_layout()\n",
            "<ipython-input-16-ec520c608995>:13: UserWarning: Glyph 52769 (\\N{HANGUL SYLLABLE CEUG}) missing from font(s) DejaVu Sans.\n",
            "  plt.tight_layout()\n",
            "<ipython-input-16-ec520c608995>:13: UserWarning: Glyph 48708 (\\N{HANGUL SYLLABLE BI}) missing from font(s) DejaVu Sans.\n",
            "  plt.tight_layout()\n",
            "<ipython-input-16-ec520c608995>:13: UserWarning: Glyph 50984 (\\N{HANGUL SYLLABLE YUL}) missing from font(s) DejaVu Sans.\n",
            "  plt.tight_layout()\n",
            "<ipython-input-16-ec520c608995>:13: UserWarning: Glyph 48324 (\\N{HANGUL SYLLABLE BYEOL}) missing from font(s) DejaVu Sans.\n",
            "  plt.tight_layout()\n",
            "<ipython-input-16-ec520c608995>:13: UserWarning: Glyph 47456 (\\N{HANGUL SYLLABLE RYUL}) missing from font(s) DejaVu Sans.\n",
            "  plt.tight_layout()\n",
            "/usr/local/lib/python3.11/dist-packages/IPython/core/pylabtools.py:151: UserWarning: Glyph 44208 (\\N{HANGUL SYLLABLE GYEOL}) missing from font(s) DejaVu Sans.\n",
            "  fig.canvas.print_figure(bytes_io, **kw)\n",
            "/usr/local/lib/python3.11/dist-packages/IPython/core/pylabtools.py:151: UserWarning: Glyph 52769 (\\N{HANGUL SYLLABLE CEUG}) missing from font(s) DejaVu Sans.\n",
            "  fig.canvas.print_figure(bytes_io, **kw)\n",
            "/usr/local/lib/python3.11/dist-packages/IPython/core/pylabtools.py:151: UserWarning: Glyph 48708 (\\N{HANGUL SYLLABLE BI}) missing from font(s) DejaVu Sans.\n",
            "  fig.canvas.print_figure(bytes_io, **kw)\n",
            "/usr/local/lib/python3.11/dist-packages/IPython/core/pylabtools.py:151: UserWarning: Glyph 50984 (\\N{HANGUL SYLLABLE YUL}) missing from font(s) DejaVu Sans.\n",
            "  fig.canvas.print_figure(bytes_io, **kw)\n",
            "/usr/local/lib/python3.11/dist-packages/IPython/core/pylabtools.py:151: UserWarning: Glyph 48324 (\\N{HANGUL SYLLABLE BYEOL}) missing from font(s) DejaVu Sans.\n",
            "  fig.canvas.print_figure(bytes_io, **kw)\n",
            "/usr/local/lib/python3.11/dist-packages/IPython/core/pylabtools.py:151: UserWarning: Glyph 47456 (\\N{HANGUL SYLLABLE RYUL}) missing from font(s) DejaVu Sans.\n",
            "  fig.canvas.print_figure(bytes_io, **kw)\n"
          ]
        },
        {
          "output_type": "display_data",
          "data": {
            "text/plain": [
              "<Figure size 600x400 with 1 Axes>"
            ],
            "image/png": "[encoded data removed]"
          },
          "metadata": {}
        }
      ]
    },
    {
      "cell_type": "markdown",
      "source": [
        "이거는 범위가 너무 커서 주 별로 나누는 게 좋을 것 같다!"
      ],
      "metadata": {
        "id": "ELtVu8715jrP"
      }
    },
    {
      "cell_type": "markdown",
      "source": [
        "## 결측치가 존재하는 집단 , 결측치 없는 집단 정신질환 비교해봄\n",
        "\n",
        "\n",
        "결론 : 여기는 별 차이 없는 듯."
      ],
      "metadata": {
        "id": "f5Q393tHrqZg"
      }
    },
    {
      "cell_type": "code",
      "source": [
        "\n",
        "df_missing = df[df[required_cols].isin([-9]).any(axis=1)]\n",
        "mh_vars = ['MH1', 'MH2', 'MH3', 'NUMMHS',\n",
        "           'DEPRESSFLG', 'ANXIETYFLG', 'BIPOLARFLG', 'ADHDFLG',\n",
        "           'SCHIZOFLG', 'ODDFLG', 'PDDFLG', 'PERSONFLG', 'ALCSUBFLG', 'OTHERDISFLG']\n",
        "for mh_col in ['MH1', 'MH2', 'MH3']:\n",
        "    print(f\"\\n[결측집단] {mh_col} 분포:\")\n",
        "    print(df_missing[mh_col].value_counts(dropna=False, normalize=True).sort_index())\n",
        "print(\"\\n[결측집단] 정신질환 flag 변수 비율:\")\n",
        "print(df_missing[mh_vars[4:]].mean().sort_values(ascending=False))\n",
        "# 전체 flag 평균\n",
        "all_flag_dist = df[mh_vars[4:]].mean()\n",
        "missing_flag_dist = df_missing[mh_vars[4:]].mean()\n",
        "\n",
        "# 비교 테이블\n",
        "compare_df = pd.DataFrame({\n",
        "    '전체 집단': all_flag_dist,\n",
        "    '결측 집단': missing_flag_dist\n",
        "})\n",
        "compare_df['차이'] = compare_df['결측 집단'] - compare_df['전체 집단']\n",
        "print(compare_df.sort_values(by='차이', ascending=False))\n",
        "compare_df[['전체 집단', '결측 집단']].plot(kind='bar', figsize=(12,5), title=\"정신질환 비율: 전체 vs 결측 집단\")\n"
      ],
      "metadata": {
        "colab": {
          "base_uri": "https://localhost:8080/",
          "height": 1000
        },
        "collapsed": true,
        "id": "7uv0ap8Brc4U",
        "outputId": "5ceea61c-4899-4741-eaf9-b24817806bd3"
      },
      "execution_count": null,
      "outputs": [
        {
          "output_type": "stream",
          "name": "stdout",
          "text": [
            "\n",
            "[결측집단] MH1 분포:\n",
            "MH1\n",
            "-9.0     0.091436\n",
            " 1.0     0.141840\n",
            " 2.0     0.125226\n",
            " 3.0     0.059438\n",
            " 4.0     0.010096\n",
            " 5.0     0.004418\n",
            " 6.0     0.063941\n",
            " 7.0     0.186871\n",
            " 8.0     0.009013\n",
            " 9.0     0.017152\n",
            " 10.0    0.002888\n",
            " 11.0    0.104032\n",
            " 12.0    0.093718\n",
            " 13.0    0.089930\n",
            " NaN     0.000001\n",
            "Name: proportion, dtype: float64\n",
            "\n",
            "[결측집단] MH2 분포:\n",
            "MH2\n",
            "-9.0     0.717806\n",
            " 1.0     0.039541\n",
            " 2.0     0.083874\n",
            " 3.0     0.022201\n",
            " 4.0     0.003507\n",
            " 5.0     0.001731\n",
            " 6.0     0.013760\n",
            " 7.0     0.041469\n",
            " 8.0     0.006598\n",
            " 9.0     0.005315\n",
            " 10.0    0.006717\n",
            " 11.0    0.015229\n",
            " 12.0    0.002193\n",
            " 13.0    0.040060\n",
            " NaN     0.000001\n",
            "Name: proportion, dtype: float64\n",
            "\n",
            "[결측집단] MH3 분포:\n",
            "MH3\n",
            "-9.0     0.932267\n",
            " 1.0     0.013091\n",
            " 2.0     0.018096\n",
            " 3.0     0.007455\n",
            " 4.0     0.001051\n",
            " 5.0     0.000480\n",
            " 6.0     0.002062\n",
            " 7.0     0.006392\n",
            " 8.0     0.001756\n",
            " 9.0     0.001499\n",
            " 10.0    0.003951\n",
            " 11.0    0.001489\n",
            " 12.0    0.000320\n",
            " 13.0    0.010089\n",
            " NaN     0.000001\n",
            "Name: proportion, dtype: float64\n",
            "\n",
            "[결측집단] 정신질환 flag 변수 비율:\n",
            "DEPRESSFLG     0.234731\n",
            "ANXIETYFLG     0.227196\n",
            "OTHERDISFLG    0.140023\n",
            "SCHIZOFLG      0.120751\n",
            "ALCSUBFLG      0.096231\n",
            "ADHDFLG        0.089094\n",
            "BIPOLARFLG     0.079763\n",
            "PDDFLG         0.023967\n",
            "ODDFLG         0.017368\n",
            "PERSONFLG      0.013555\n",
            "dtype: float64\n",
            "                전체 집단     결측 집단        차이\n",
            "ALCSUBFLG    0.092439  0.096231  0.003792\n",
            "OTHERDISFLG  0.137178  0.140023  0.002845\n",
            "ADHDFLG      0.087182  0.089094  0.001911\n",
            "PDDFLG       0.022989  0.023967  0.000977\n",
            "ODDFLG       0.017092  0.017368  0.000275\n",
            "PERSONFLG    0.014553  0.013555 -0.000997\n",
            "ANXIETYFLG   0.228333  0.227196 -0.001137\n",
            "SCHIZOFLG    0.123422  0.120751 -0.002671\n",
            "BIPOLARFLG   0.083490  0.079763 -0.003728\n",
            "DEPRESSFLG   0.243577  0.234731 -0.008845\n"
          ]
        },
        {
          "output_type": "execute_result",
          "data": {
            "text/plain": [
              "<Axes: title={'center': '정신질환 비율: 전체 vs 결측 집단'}>"
            ]
          },
          "metadata": {},
          "execution_count": 6
        },
        {
          "output_type": "stream",
          "name": "stderr",
          "text": [
            "/usr/local/lib/python3.11/dist-packages/IPython/core/events.py:89: UserWarning: Glyph 51221 (\\N{HANGUL SYLLABLE JEONG}) missing from font(s) DejaVu Sans.\n",
            "  func(*args, **kwargs)\n",
            "/usr/local/lib/python3.11/dist-packages/IPython/core/events.py:89: UserWarning: Glyph 49888 (\\N{HANGUL SYLLABLE SIN}) missing from font(s) DejaVu Sans.\n",
            "  func(*args, **kwargs)\n",
            "/usr/local/lib/python3.11/dist-packages/IPython/core/events.py:89: UserWarning: Glyph 51656 (\\N{HANGUL SYLLABLE JIL}) missing from font(s) DejaVu Sans.\n",
            "  func(*args, **kwargs)\n",
            "/usr/local/lib/python3.11/dist-packages/IPython/core/events.py:89: UserWarning: Glyph 54872 (\\N{HANGUL SYLLABLE HWAN}) missing from font(s) DejaVu Sans.\n",
            "  func(*args, **kwargs)\n",
            "/usr/local/lib/python3.11/dist-packages/IPython/core/events.py:89: UserWarning: Glyph 48708 (\\N{HANGUL SYLLABLE BI}) missing from font(s) DejaVu Sans.\n",
            "  func(*args, **kwargs)\n",
            "/usr/local/lib/python3.11/dist-packages/IPython/core/events.py:89: UserWarning: Glyph 50984 (\\N{HANGUL SYLLABLE YUL}) missing from font(s) DejaVu Sans.\n",
            "  func(*args, **kwargs)\n",
            "/usr/local/lib/python3.11/dist-packages/IPython/core/events.py:89: UserWarning: Glyph 51204 (\\N{HANGUL SYLLABLE JEON}) missing from font(s) DejaVu Sans.\n",
            "  func(*args, **kwargs)\n",
            "/usr/local/lib/python3.11/dist-packages/IPython/core/events.py:89: UserWarning: Glyph 52404 (\\N{HANGUL SYLLABLE CE}) missing from font(s) DejaVu Sans.\n",
            "  func(*args, **kwargs)\n",
            "/usr/local/lib/python3.11/dist-packages/IPython/core/events.py:89: UserWarning: Glyph 44208 (\\N{HANGUL SYLLABLE GYEOL}) missing from font(s) DejaVu Sans.\n",
            "  func(*args, **kwargs)\n",
            "/usr/local/lib/python3.11/dist-packages/IPython/core/events.py:89: UserWarning: Glyph 52769 (\\N{HANGUL SYLLABLE CEUG}) missing from font(s) DejaVu Sans.\n",
            "  func(*args, **kwargs)\n",
            "/usr/local/lib/python3.11/dist-packages/IPython/core/events.py:89: UserWarning: Glyph 51665 (\\N{HANGUL SYLLABLE JIB}) missing from font(s) DejaVu Sans.\n",
            "  func(*args, **kwargs)\n",
            "/usr/local/lib/python3.11/dist-packages/IPython/core/events.py:89: UserWarning: Glyph 45800 (\\N{HANGUL SYLLABLE DAN}) missing from font(s) DejaVu Sans.\n",
            "  func(*args, **kwargs)\n",
            "/usr/local/lib/python3.11/dist-packages/IPython/core/pylabtools.py:151: UserWarning: Glyph 51221 (\\N{HANGUL SYLLABLE JEONG}) missing from font(s) DejaVu Sans.\n",
            "  fig.canvas.print_figure(bytes_io, **kw)\n",
            "/usr/local/lib/python3.11/dist-packages/IPython/core/pylabtools.py:151: UserWarning: Glyph 49888 (\\N{HANGUL SYLLABLE SIN}) missing from font(s) DejaVu Sans.\n",
            "  fig.canvas.print_figure(bytes_io, **kw)\n",
            "/usr/local/lib/python3.11/dist-packages/IPython/core/pylabtools.py:151: UserWarning: Glyph 51656 (\\N{HANGUL SYLLABLE JIL}) missing from font(s) DejaVu Sans.\n",
            "  fig.canvas.print_figure(bytes_io, **kw)\n",
            "/usr/local/lib/python3.11/dist-packages/IPython/core/pylabtools.py:151: UserWarning: Glyph 54872 (\\N{HANGUL SYLLABLE HWAN}) missing from font(s) DejaVu Sans.\n",
            "  fig.canvas.print_figure(bytes_io, **kw)\n",
            "/usr/local/lib/python3.11/dist-packages/IPython/core/pylabtools.py:151: UserWarning: Glyph 48708 (\\N{HANGUL SYLLABLE BI}) missing from font(s) DejaVu Sans.\n",
            "  fig.canvas.print_figure(bytes_io, **kw)\n",
            "/usr/local/lib/python3.11/dist-packages/IPython/core/pylabtools.py:151: UserWarning: Glyph 50984 (\\N{HANGUL SYLLABLE YUL}) missing from font(s) DejaVu Sans.\n",
            "  fig.canvas.print_figure(bytes_io, **kw)\n",
            "/usr/local/lib/python3.11/dist-packages/IPython/core/pylabtools.py:151: UserWarning: Glyph 51204 (\\N{HANGUL SYLLABLE JEON}) missing from font(s) DejaVu Sans.\n",
            "  fig.canvas.print_figure(bytes_io, **kw)\n",
            "/usr/local/lib/python3.11/dist-packages/IPython/core/pylabtools.py:151: UserWarning: Glyph 52404 (\\N{HANGUL SYLLABLE CE}) missing from font(s) DejaVu Sans.\n",
            "  fig.canvas.print_figure(bytes_io, **kw)\n",
            "/usr/local/lib/python3.11/dist-packages/IPython/core/pylabtools.py:151: UserWarning: Glyph 44208 (\\N{HANGUL SYLLABLE GYEOL}) missing from font(s) DejaVu Sans.\n",
            "  fig.canvas.print_figure(bytes_io, **kw)\n",
            "/usr/local/lib/python3.11/dist-packages/IPython/core/pylabtools.py:151: UserWarning: Glyph 52769 (\\N{HANGUL SYLLABLE CEUG}) missing from font(s) DejaVu Sans.\n",
            "  fig.canvas.print_figure(bytes_io, **kw)\n",
            "/usr/local/lib/python3.11/dist-packages/IPython/core/pylabtools.py:151: UserWarning: Glyph 51665 (\\N{HANGUL SYLLABLE JIB}) missing from font(s) DejaVu Sans.\n",
            "  fig.canvas.print_figure(bytes_io, **kw)\n",
            "/usr/local/lib/python3.11/dist-packages/IPython/core/pylabtools.py:151: UserWarning: Glyph 45800 (\\N{HANGUL SYLLABLE DAN}) missing from font(s) DejaVu Sans.\n",
            "  fig.canvas.print_figure(bytes_io, **kw)\n"
          ]
        },
        {
          "output_type": "display_data",
          "data": {
            "text/plain": [
              "<Figure size 1200x500 with 1 Axes>"
            ],
            "image/png": "[encoded data removed]"
          },
          "metadata": {}
        }
      ]
    },
    {
      "cell_type": "markdown",
      "source": [
        "## STATEFIP 별로 결측치 비율"
      ],
      "metadata": {
        "id": "tfdSQ53B6yXR"
      }
    },
    {
      "cell_type": "code",
      "source": [
        "df = pd.read_csv(\"/content/mhcld_puf_2022.csv\")\n",
        "neg9_ratio_by_state = df.groupby(\"STATEFIP\")[required_cols].apply(\n",
        "    lambda g: (g == -9).mean() * 100\n",
        ")"
      ],
      "metadata": {
        "id": "WkS44AHJ65AZ"
      },
      "execution_count": null,
      "outputs": []
    },
    {
      "cell_type": "code",
      "source": [
        "plt.figure(figsize=(16, 8))\n",
        "neg9_ratio_by_state.plot(kind='bar', stacked=True, colormap='tab20')\n",
        "plt.title(\"STATEFIP missing (전체 주)\")\n",
        "plt.ylabel(\"결측 비율 (%)\")\n",
        "plt.xlabel(\"STATEFIP\")\n",
        "plt.xticks(rotation=90)\n",
        "plt.legend(title=\"변수\", bbox_to_anchor=(1.05, 1), loc='upper left')\n",
        "plt.tight_layout()\n",
        "plt.show()\n"
      ],
      "metadata": {
        "colab": {
          "base_uri": "https://localhost:8080/",
          "height": 1000
        },
        "collapsed": true,
        "id": "AfqdrCSg-C0H",
        "outputId": "e5fa8e7d-541a-40fa-f9dc-bc6940083b11"
      },
      "execution_count": null,
      "outputs": [
        {
          "output_type": "stream",
          "name": "stderr",
          "text": [
            "<ipython-input-24-2ed3fa8a464d>:8: UserWarning: Glyph 44208 (\\N{HANGUL SYLLABLE GYEOL}) missing from font(s) DejaVu Sans.\n",
            "  plt.tight_layout()\n",
            "<ipython-input-24-2ed3fa8a464d>:8: UserWarning: Glyph 52769 (\\N{HANGUL SYLLABLE CEUG}) missing from font(s) DejaVu Sans.\n",
            "  plt.tight_layout()\n",
            "<ipython-input-24-2ed3fa8a464d>:8: UserWarning: Glyph 48708 (\\N{HANGUL SYLLABLE BI}) missing from font(s) DejaVu Sans.\n",
            "  plt.tight_layout()\n",
            "<ipython-input-24-2ed3fa8a464d>:8: UserWarning: Glyph 50984 (\\N{HANGUL SYLLABLE YUL}) missing from font(s) DejaVu Sans.\n",
            "  plt.tight_layout()\n",
            "<ipython-input-24-2ed3fa8a464d>:8: UserWarning: Glyph 51204 (\\N{HANGUL SYLLABLE JEON}) missing from font(s) DejaVu Sans.\n",
            "  plt.tight_layout()\n",
            "<ipython-input-24-2ed3fa8a464d>:8: UserWarning: Glyph 52404 (\\N{HANGUL SYLLABLE CE}) missing from font(s) DejaVu Sans.\n",
            "  plt.tight_layout()\n",
            "<ipython-input-24-2ed3fa8a464d>:8: UserWarning: Glyph 51452 (\\N{HANGUL SYLLABLE JU}) missing from font(s) DejaVu Sans.\n",
            "  plt.tight_layout()\n",
            "<ipython-input-24-2ed3fa8a464d>:8: UserWarning: Glyph 48320 (\\N{HANGUL SYLLABLE BYEON}) missing from font(s) DejaVu Sans.\n",
            "  plt.tight_layout()\n",
            "<ipython-input-24-2ed3fa8a464d>:8: UserWarning: Glyph 49688 (\\N{HANGUL SYLLABLE SU}) missing from font(s) DejaVu Sans.\n",
            "  plt.tight_layout()\n"
          ]
        },
        {
          "output_type": "display_data",
          "data": {
            "text/plain": [
              "<Figure size 1600x800 with 0 Axes>"
            ]
          },
          "metadata": {}
        },
        {
          "output_type": "stream",
          "name": "stderr",
          "text": [
            "/usr/local/lib/python3.11/dist-packages/IPython/core/pylabtools.py:151: UserWarning: Glyph 44208 (\\N{HANGUL SYLLABLE GYEOL}) missing from font(s) DejaVu Sans.\n",
            "  fig.canvas.print_figure(bytes_io, **kw)\n",
            "/usr/local/lib/python3.11/dist-packages/IPython/core/pylabtools.py:151: UserWarning: Glyph 52769 (\\N{HANGUL SYLLABLE CEUG}) missing from font(s) DejaVu Sans.\n",
            "  fig.canvas.print_figure(bytes_io, **kw)\n",
            "/usr/local/lib/python3.11/dist-packages/IPython/core/pylabtools.py:151: UserWarning: Glyph 48708 (\\N{HANGUL SYLLABLE BI}) missing from font(s) DejaVu Sans.\n",
            "  fig.canvas.print_figure(bytes_io, **kw)\n",
            "/usr/local/lib/python3.11/dist-packages/IPython/core/pylabtools.py:151: UserWarning: Glyph 50984 (\\N{HANGUL SYLLABLE YUL}) missing from font(s) DejaVu Sans.\n",
            "  fig.canvas.print_figure(bytes_io, **kw)\n",
            "/usr/local/lib/python3.11/dist-packages/IPython/core/pylabtools.py:151: UserWarning: Glyph 51204 (\\N{HANGUL SYLLABLE JEON}) missing from font(s) DejaVu Sans.\n",
            "  fig.canvas.print_figure(bytes_io, **kw)\n",
            "/usr/local/lib/python3.11/dist-packages/IPython/core/pylabtools.py:151: UserWarning: Glyph 52404 (\\N{HANGUL SYLLABLE CE}) missing from font(s) DejaVu Sans.\n",
            "  fig.canvas.print_figure(bytes_io, **kw)\n",
            "/usr/local/lib/python3.11/dist-packages/IPython/core/pylabtools.py:151: UserWarning: Glyph 51452 (\\N{HANGUL SYLLABLE JU}) missing from font(s) DejaVu Sans.\n",
            "  fig.canvas.print_figure(bytes_io, **kw)\n",
            "/usr/local/lib/python3.11/dist-packages/IPython/core/pylabtools.py:151: UserWarning: Glyph 48320 (\\N{HANGUL SYLLABLE BYEON}) missing from font(s) DejaVu Sans.\n",
            "  fig.canvas.print_figure(bytes_io, **kw)\n",
            "/usr/local/lib/python3.11/dist-packages/IPython/core/pylabtools.py:151: UserWarning: Glyph 49688 (\\N{HANGUL SYLLABLE SU}) missing from font(s) DejaVu Sans.\n",
            "  fig.canvas.print_figure(bytes_io, **kw)\n"
          ]
        },
        {
          "output_type": "display_data",
          "data": {
            "text/plain": [
              "<Figure size 640x480 with 1 Axes>"
            ],
            "image/png": "[encoded data removed]"
          },
          "metadata": {}
        }
      ]
    },
    {
      "cell_type": "code",
      "source": [
        "print(neg9_ratio_by_state)"
      ],
      "metadata": {
        "colab": {
          "base_uri": "https://localhost:8080/"
        },
        "collapsed": true,
        "id": "2HV_yMa1_cwT",
        "outputId": "ee39073e-fd05-4140-9262-dde8d6a624c3"
      },
      "execution_count": null,
      "outputs": [
        {
          "output_type": "stream",
          "name": "stdout",
          "text": [
            "                AGE     GENDER       RACE     ETHNIC     MARSTAT     VETERAN  \\\n",
            "STATEFIP                                                                       \n",
            "1          0.000000   0.000000   0.003221   0.000000    0.032206   15.720712   \n",
            "2          0.010595   0.105955   2.574698   5.128205    2.670057   14.505192   \n",
            "4          0.000000   0.000000  34.236228  33.079833   44.983463   82.628424   \n",
            "5          0.001384   0.081643  26.437052  13.208148  100.000000  100.000000   \n",
            "6          0.114215   0.141139  17.018733  19.530798   98.715539   99.100493   \n",
            "8          0.000760   0.001521   0.012166   9.910657    0.272212    0.529217   \n",
            "9          0.021300   0.166139   6.929934   9.109982   46.694783   46.677743   \n",
            "10         0.006174   0.753226   7.754522  11.144039   10.674816   44.076063   \n",
            "11         0.000000   0.313800  32.763580  55.476049   82.788542   79.828836   \n",
            "12         0.000867   0.000000   0.008090   0.904113    7.904705   11.986940   \n",
            "13         0.001608   0.136666   2.911786   5.723887    8.240950   16.416783   \n",
            "15         0.336627   0.521229  27.277663  23.531328   37.854273  100.000000   \n",
            "16         0.296482   0.144947  16.523916  20.061932   65.792595   26.459349   \n",
            "17         0.000000   0.000000  13.703094  10.441150    9.584477   13.011166   \n",
            "18         0.000000   0.000000   0.998439   1.203122    0.553686   39.929922   \n",
            "19         0.052715   0.083438  24.990621  55.885929  100.000000  100.000000   \n",
            "20         0.070897   0.996101   0.941156   2.649770   72.318327   12.289968   \n",
            "21         0.013301   1.286229   1.790346   2.694830    1.454490   53.760259   \n",
            "22         0.000000   0.144030   4.755264   5.196498   48.670584   19.117076   \n",
            "24         0.000000   0.004592  23.008262  40.309861   35.757556   63.912628   \n",
            "25         0.000000   0.000000  15.851858  19.210893    9.010746   14.039045   \n",
            "26         0.001410   0.000000   1.213272   8.909429    2.540366    4.314288   \n",
            "27         0.001449   0.032744  20.588116   6.372898  100.000000  100.000000   \n",
            "28         0.000891   0.068586   0.962883   4.622908    2.364007    3.802542   \n",
            "29         0.000000   0.014607   3.463157   0.003984   36.175920  100.000000   \n",
            "30         0.000000   0.000000   8.569968   0.016205   75.847025   61.112912   \n",
            "31         0.000000   3.905373   6.957849  16.416034   16.640481   31.373165   \n",
            "32        29.921731  22.529623  47.102946  47.782368   57.071421   80.503316   \n",
            "33         0.038261   2.162856  14.381527  18.522686   16.335074   30.388009   \n",
            "34         0.036082   0.189188  18.441731   5.270215   23.786792   27.265568   \n",
            "35         0.000000   0.040121  45.543778  45.305852   73.563111    1.289001   \n",
            "36         0.002078   0.000000   6.929232  11.557726    8.641796   80.874987   \n",
            "37         0.000000   0.010363   0.243521   0.145076    0.525383    0.698438   \n",
            "38         0.000000   0.409626   3.336747   0.221881    3.268476    7.714627   \n",
            "39         0.000000   1.690156   4.203894  15.996023   10.271258    5.019414   \n",
            "40         0.000000   0.000000   0.003393   0.007634   15.349382    0.138260   \n",
            "41         0.000000   0.060006  30.298281  27.453539   41.097582   93.450626   \n",
            "42         0.068452   0.000187   2.163058   0.033014    0.549484  100.000000   \n",
            "44         0.000000   0.061073  18.173622  12.679948    9.541951    9.483787   \n",
            "45         0.002033   0.007116   3.003995  25.500920    2.916569    0.067094   \n",
            "46         0.000000   0.000000   0.132563   0.360571   77.740071  100.000000   \n",
            "47         0.002476   0.408537  13.882836  44.929187   49.877439   54.231455   \n",
            "48         0.000451   0.000000   0.001127   0.007435   20.822124  100.000000   \n",
            "49         0.001667   0.065010   6.696004   7.306096    8.311247    7.927856   \n",
            "50         0.578458   2.383393  19.290474  32.843963   16.442118   34.026507   \n",
            "51         0.003227   0.113768   1.653273   3.193584  100.000000    6.213691   \n",
            "53         0.248893   0.317646   3.871200   6.019365   55.859491   74.617429   \n",
            "54         0.046904   3.068882   7.906727  79.073975   10.131332    6.620209   \n",
            "55         0.000000   0.055283   6.605619  12.216143  100.000000   69.380263   \n",
            "56         0.000000   0.063957   6.864696   6.331723    2.977544   29.768334   \n",
            "72         0.000000   0.000000   4.485488   0.565398    3.505466   34.903882   \n",
            "99         0.000000   0.000000  27.080891  48.065651   44.196952   86.400938   \n",
            "\n",
            "                EDUC      EMPLOY  \n",
            "STATEFIP                          \n",
            "1           1.412760   47.514251  \n",
            "2           6.537402   32.729392  \n",
            "4          99.970596   81.895209  \n",
            "5         100.000000   42.397531  \n",
            "6         100.000000   83.642980  \n",
            "8           0.745162   20.743641  \n",
            "9          40.761686   58.204202  \n",
            "10         46.971661   40.834722  \n",
            "11         83.152264   28.990847  \n",
            "12         10.679746   25.555861  \n",
            "13          7.870344   49.017212  \n",
            "15         52.025193   85.220979  \n",
            "16         96.040322   15.436816  \n",
            "17         22.456526   33.772652  \n",
            "18         25.354380   50.061405  \n",
            "19        100.000000   87.624995  \n",
            "20         12.006381   48.594470  \n",
            "21          8.034610   32.186324  \n",
            "22         51.628907   60.286688  \n",
            "24         48.925591   62.146647  \n",
            "25         51.250923  100.000000  \n",
            "26          5.953245   24.390545  \n",
            "27          4.371461   23.967986  \n",
            "28         10.304898   37.204165  \n",
            "29         39.498320   49.261025  \n",
            "30         93.160230   96.503453  \n",
            "31         22.727477   23.768910  \n",
            "32         95.559300   57.288836  \n",
            "33         67.768725   46.441754  \n",
            "34         30.711188   98.935327  \n",
            "35        100.000000   98.286463  \n",
            "36         12.353736   48.953549  \n",
            "37          1.439363    7.264173  \n",
            "38         11.452466   39.964158  \n",
            "39         14.480526   41.803818  \n",
            "40         20.448030   40.013063  \n",
            "41         48.347218   65.361491  \n",
            "42         99.434475   93.259957  \n",
            "44        100.000000   34.805875  \n",
            "45         12.478525   54.156289  \n",
            "46          4.061721   28.675964  \n",
            "47         61.685402   63.395068  \n",
            "48         28.136252   46.164488  \n",
            "49         12.473538   37.443950  \n",
            "50         97.448195   96.415757  \n",
            "51         10.112477   26.961496  \n",
            "53         73.185018   79.811454  \n",
            "54          9.816403   21.019834  \n",
            "55        100.000000   63.979531  \n",
            "56          3.077032   20.579875  \n",
            "72          8.405579   48.586506  \n",
            "99         96.600234   62.837046  \n"
          ]
        }
      ]
    },
    {
      "cell_type": "code",
      "source": [
        "high_missing_states = neg9_ratio_by_state[(neg9_ratio_by_state >= 80).any(axis=1)]\n",
        "\n",
        "# 결과 확인\n",
        "print(high_missing_states)"
      ],
      "metadata": {
        "colab": {
          "base_uri": "https://localhost:8080/"
        },
        "collapsed": true,
        "id": "cUQvf8ye_zoF",
        "outputId": "d7391738-4b5c-4c52-ffb6-4279d141cc1e"
      },
      "execution_count": null,
      "outputs": [
        {
          "output_type": "stream",
          "name": "stdout",
          "text": [
            "                AGE     GENDER       RACE     ETHNIC     MARSTAT     VETERAN  \\\n",
            "STATEFIP                                                                       \n",
            "4          0.000000   0.000000  34.236228  33.079833   44.983463   82.628424   \n",
            "5          0.001384   0.081643  26.437052  13.208148  100.000000  100.000000   \n",
            "6          0.114215   0.141139  17.018733  19.530798   98.715539   99.100493   \n",
            "11         0.000000   0.313800  32.763580  55.476049   82.788542   79.828836   \n",
            "15         0.336627   0.521229  27.277663  23.531328   37.854273  100.000000   \n",
            "16         0.296482   0.144947  16.523916  20.061932   65.792595   26.459349   \n",
            "19         0.052715   0.083438  24.990621  55.885929  100.000000  100.000000   \n",
            "25         0.000000   0.000000  15.851858  19.210893    9.010746   14.039045   \n",
            "27         0.001449   0.032744  20.588116   6.372898  100.000000  100.000000   \n",
            "29         0.000000   0.014607   3.463157   0.003984   36.175920  100.000000   \n",
            "30         0.000000   0.000000   8.569968   0.016205   75.847025   61.112912   \n",
            "32        29.921731  22.529623  47.102946  47.782368   57.071421   80.503316   \n",
            "34         0.036082   0.189188  18.441731   5.270215   23.786792   27.265568   \n",
            "35         0.000000   0.040121  45.543778  45.305852   73.563111    1.289001   \n",
            "36         0.002078   0.000000   6.929232  11.557726    8.641796   80.874987   \n",
            "41         0.000000   0.060006  30.298281  27.453539   41.097582   93.450626   \n",
            "42         0.068452   0.000187   2.163058   0.033014    0.549484  100.000000   \n",
            "44         0.000000   0.061073  18.173622  12.679948    9.541951    9.483787   \n",
            "46         0.000000   0.000000   0.132563   0.360571   77.740071  100.000000   \n",
            "48         0.000451   0.000000   0.001127   0.007435   20.822124  100.000000   \n",
            "50         0.578458   2.383393  19.290474  32.843963   16.442118   34.026507   \n",
            "51         0.003227   0.113768   1.653273   3.193584  100.000000    6.213691   \n",
            "55         0.000000   0.055283   6.605619  12.216143  100.000000   69.380263   \n",
            "99         0.000000   0.000000  27.080891  48.065651   44.196952   86.400938   \n",
            "\n",
            "                EDUC      EMPLOY  \n",
            "STATEFIP                          \n",
            "4          99.970596   81.895209  \n",
            "5         100.000000   42.397531  \n",
            "6         100.000000   83.642980  \n",
            "11         83.152264   28.990847  \n",
            "15         52.025193   85.220979  \n",
            "16         96.040322   15.436816  \n",
            "19        100.000000   87.624995  \n",
            "25         51.250923  100.000000  \n",
            "27          4.371461   23.967986  \n",
            "29         39.498320   49.261025  \n",
            "30         93.160230   96.503453  \n",
            "32         95.559300   57.288836  \n",
            "34         30.711188   98.935327  \n",
            "35        100.000000   98.286463  \n",
            "36         12.353736   48.953549  \n",
            "41         48.347218   65.361491  \n",
            "42         99.434475   93.259957  \n",
            "44        100.000000   34.805875  \n",
            "46          4.061721   28.675964  \n",
            "48         28.136252   46.164488  \n",
            "50         97.448195   96.415757  \n",
            "51         10.112477   26.961496  \n",
            "55        100.000000   63.979531  \n",
            "99         96.600234   62.837046  \n"
          ]
        }
      ]
    },
    {
      "cell_type": "code",
      "source": [
        "# 각 주마다 80% 이상 결측이 있는 컬럼만 뽑기\n",
        "high_missing_cols_by_state = {}\n",
        "\n",
        "for state, row in neg9_ratio_by_state.iterrows():\n",
        "    high_missing_cols = row[row >= 80].index.tolist()\n",
        "    if high_missing_cols:  # 하나라도 있다면\n",
        "        high_missing_cols_by_state[state] = high_missing_cols\n",
        "\n",
        "# 결과 보기\n",
        "for state, cols in high_missing_cols_by_state.items():\n",
        "    print(f\"STATEFIP {state}: 결측률 80% 이상 컬럼 → {cols}\")"
      ],
      "metadata": {
        "colab": {
          "base_uri": "https://localhost:8080/"
        },
        "id": "szV5VljQAR7G",
        "outputId": "9964e9c7-42e8-4ee5-e9ba-41ebc8f8bf73"
      },
      "execution_count": null,
      "outputs": [
        {
          "output_type": "stream",
          "name": "stdout",
          "text": [
            "STATEFIP 4: 결측률 80% 이상 컬럼 → ['VETERAN', 'EDUC', 'EMPLOY']\n",
            "STATEFIP 5: 결측률 80% 이상 컬럼 → ['MARSTAT', 'VETERAN', 'EDUC']\n",
            "STATEFIP 6: 결측률 80% 이상 컬럼 → ['MARSTAT', 'VETERAN', 'EDUC', 'EMPLOY']\n",
            "STATEFIP 11: 결측률 80% 이상 컬럼 → ['MARSTAT', 'EDUC']\n",
            "STATEFIP 15: 결측률 80% 이상 컬럼 → ['VETERAN', 'EMPLOY']\n",
            "STATEFIP 16: 결측률 80% 이상 컬럼 → ['EDUC']\n",
            "STATEFIP 19: 결측률 80% 이상 컬럼 → ['MARSTAT', 'VETERAN', 'EDUC', 'EMPLOY']\n",
            "STATEFIP 25: 결측률 80% 이상 컬럼 → ['EMPLOY']\n",
            "STATEFIP 27: 결측률 80% 이상 컬럼 → ['MARSTAT', 'VETERAN']\n",
            "STATEFIP 29: 결측률 80% 이상 컬럼 → ['VETERAN']\n",
            "STATEFIP 30: 결측률 80% 이상 컬럼 → ['EDUC', 'EMPLOY']\n",
            "STATEFIP 32: 결측률 80% 이상 컬럼 → ['VETERAN', 'EDUC']\n",
            "STATEFIP 34: 결측률 80% 이상 컬럼 → ['EMPLOY']\n",
            "STATEFIP 35: 결측률 80% 이상 컬럼 → ['EDUC', 'EMPLOY']\n",
            "STATEFIP 36: 결측률 80% 이상 컬럼 → ['VETERAN']\n",
            "STATEFIP 41: 결측률 80% 이상 컬럼 → ['VETERAN']\n",
            "STATEFIP 42: 결측률 80% 이상 컬럼 → ['VETERAN', 'EDUC', 'EMPLOY']\n",
            "STATEFIP 44: 결측률 80% 이상 컬럼 → ['EDUC']\n",
            "STATEFIP 46: 결측률 80% 이상 컬럼 → ['VETERAN']\n",
            "STATEFIP 48: 결측률 80% 이상 컬럼 → ['VETERAN']\n",
            "STATEFIP 50: 결측률 80% 이상 컬럼 → ['EDUC', 'EMPLOY']\n",
            "STATEFIP 51: 결측률 80% 이상 컬럼 → ['MARSTAT']\n",
            "STATEFIP 55: 결측률 80% 이상 컬럼 → ['MARSTAT', 'EDUC']\n",
            "STATEFIP 99: 결측률 80% 이상 컬럼 → ['VETERAN', 'EDUC']\n"
          ]
        }
      ]
    },
    {
      "cell_type": "code",
      "source": [
        "df_high_missing = pd.DataFrame([\n",
        "    {'STATEFIP': state, 'High Missing Columns': ', '.join(cols)}\n",
        "    for state, cols in high_missing_cols_by_state.items()\n",
        "])\n"
      ],
      "metadata": {
        "id": "7qRn0dr_A_ze"
      },
      "execution_count": null,
      "outputs": []
    },
    {
      "cell_type": "markdown",
      "source": [
        "## 실수로 빈 항목들이 있는 행만 제거된 데이터"
      ],
      "metadata": {
        "id": "QtBkpW6BxrVS"
      }
    },
    {
      "cell_type": "code",
      "source": [
        "# 1. 각 열의 -9 비율 계산\n",
        "missing_ratio = (df_edit == -9).mean()\n",
        "\n",
        "# 2. 결측률이 20% 이하인 열 이름만 선택\n",
        "columns_under_20pct = missing_ratio[missing_ratio <= 0.20].index\n",
        "\n",
        "# 4. 이 열들 중에서 -9가 포함된 행을 추출 (제거 대상)\n",
        "rows_to_drop = df_edit[columns_under_20pct][(df_edit[columns_under_20pct] == -9).any(axis=1)]\n",
        "\n",
        "# 5. 이 행들을 제거한 새로운 데이터프레임 만들기\n",
        "df_cleaned = df_edit.drop(rows_to_drop.index)\n",
        "\n",
        "# 6. 제거된 행들 따로 저장\n",
        "df_dropped = df_edit.loc[rows_to_drop.index].copy()"
      ],
      "metadata": {
        "id": "UU76iryIxu4p"
      },
      "execution_count": 23,
      "outputs": []
    },
    {
      "cell_type": "code",
      "source": [
        "df_cleaned.to_csv(\"missing_drop_data.csv\", index=False) #실수로 빈 항목들이 있는 행만 제거된 데이터\n",
        "df_dropped.to_csv(\"dropped_due_to_missing.csv\", index=False) #제거된 행만 모여있는 데이터\n"
      ],
      "metadata": {
        "id": "sKLPJIk-15Ar"
      },
      "execution_count": 24,
      "outputs": []
    },
    {
      "cell_type": "code",
      "source": [
        "target_cols = ['VETERAN', 'EDUC', 'EMPLOY', 'MARSTAT']\n",
        "df_dropped_col = df_cleaned.drop(columns=target_cols)#  지역따라 결측이 심한 열들이 제거된 데이터"
      ],
      "metadata": {
        "id": "nhf-MVjN2rAr"
      },
      "execution_count": 28,
      "outputs": []
    },
    {
      "cell_type": "code",
      "source": [
        "df_dropped_col.to_csv(\"dropped_region_col.csv\", index=False) #제거"
      ],
      "metadata": {
        "id": "Rhb2faXu49_Z"
      },
      "execution_count": 29,
      "outputs": []
    },
    {
      "cell_type": "markdown",
      "source": [
        "# 시각화"
      ],
      "metadata": {
        "id": "hoT1s_4d5NJI"
      }
    },
    {
      "cell_type": "code",
      "source": [
        "sns.boxplot(x='EMPLOY', y='NUMMHS', data=df_cleaned)\n",
        "plt.title(\"고용 상태별 정신질환 진단 수\")\n",
        "plt.xlabel(\"고용 상태\")\n",
        "plt.ylabel(\"진단 수\")\n",
        "plt.show()"
      ],
      "metadata": {
        "id": "Amm1yPkOFcYs"
      },
      "execution_count": null,
      "outputs": []
    }
  ]
}