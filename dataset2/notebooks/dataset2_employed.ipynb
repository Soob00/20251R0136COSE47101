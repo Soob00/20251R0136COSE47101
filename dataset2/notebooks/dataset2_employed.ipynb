{
  "nbformat": 4,
  "nbformat_minor": 0,
  "metadata": {
    "colab": {
      "provenance": [],
      "authorship_tag": "ABX9TyPv/1h5lhTt6v7H18UYnUa2",
      "include_colab_link": true
    },
    "kernelspec": {
      "name": "python3",
      "display_name": "Python 3"
    },
    "language_info": {
      "name": "python"
    }
  },
  "cells": [
    {
      "cell_type": "markdown",
      "metadata": {
        "id": "view-in-github",
        "colab_type": "text"
      },
      "source": [
        "<a href=\"https://colab.research.google.com/github/Soob00/20251R0136COSE47101/blob/dataset2_employed/dataset2/notebooks/dataset2_employed.ipynb\" target=\"_parent\"><img src=\"https://colab.research.google.com/assets/colab-badge.svg\" alt=\"Open In Colab\"/></a>"
      ]
    },
    {
      "cell_type": "code",
      "source": [
        "import pandas as pd\n",
        "\n",
        "df = pd.read_csv(\"/content/20%이하인 결측치 삭제된 데이터.csv\")\n",
        "print(df.head())\n",
        "\n",
        "print(df.columns.tolist())\n",
        "print(df.isnull().sum())\n",
        "print(df.describe(include='all'))"
      ],
      "metadata": {
        "id": "e3NmccWgOHG3",
        "colab": {
          "base_uri": "https://localhost:8080/"
        },
        "outputId": "d89e9d1e-f21c-4c1a-f989-80fbe2782c7e"
      },
      "execution_count": 23,
      "outputs": [
        {
          "output_type": "stream",
          "name": "stdout",
          "text": [
            "   YEAR       AGE  EDUC  ETHNIC  RACE  GENDER  SPHSERVICE  CMPSERVICE  \\\n",
            "0  2022  1.000000 -9.00       3     3       0           0           1   \n",
            "1  2022  0.538462  0.50       3    -9       0           0           1   \n",
            "2  2022  0.230769  0.25       3     4       1           0           1   \n",
            "3  2022  0.153846  0.75       1     6       0           0           1   \n",
            "4  2022  0.923077  0.75       4     5       0           0           1   \n",
            "\n",
            "   OPISERVICE  RTCSERVICE  ...  ODDFLG  PDDFLG  PERSONFLG  SCHIZOFLG  \\\n",
            "0           0           0  ...       0       0          0          1   \n",
            "1           1           0  ...       0       0          0          0   \n",
            "2           0           0  ...       0       0          0          0   \n",
            "3           0           0  ...       0       0          0          0   \n",
            "4           0           0  ...       0       0          0          0   \n",
            "\n",
            "   ALCSUBFLG  OTHERDISFLG  STATEFIP  DIVISION  REGION       CASEID  \n",
            "0          0            0         1         6       3  20220000001  \n",
            "1          0            0         1         6       3  20220000003  \n",
            "2          0            0         1         6       3  20220000008  \n",
            "3          0            0         1         6       3  20220000022  \n",
            "4          0            0         1         6       3  20220000043  \n",
            "\n",
            "[5 rows x 40 columns]\n",
            "['YEAR', 'AGE', 'EDUC', 'ETHNIC', 'RACE', 'GENDER', 'SPHSERVICE', 'CMPSERVICE', 'OPISERVICE', 'RTCSERVICE', 'IJSSERVICE', 'MH1', 'MH2', 'MH3', 'SUB', 'MARSTAT', 'SMISED', 'SAP', 'EMPLOY', 'DETNLF', 'VETERAN', 'LIVARAG', 'NUMMHS', 'TRAUSTREFLG', 'ANXIETYFLG', 'ADHDFLG', 'CONDUCTFLG', 'DELIRDEMFLG', 'BIPOLARFLG', 'DEPRESSFLG', 'ODDFLG', 'PDDFLG', 'PERSONFLG', 'SCHIZOFLG', 'ALCSUBFLG', 'OTHERDISFLG', 'STATEFIP', 'DIVISION', 'REGION', 'CASEID']\n",
            "YEAR           0\n",
            "AGE            0\n",
            "EDUC           0\n",
            "ETHNIC         0\n",
            "RACE           0\n",
            "GENDER         0\n",
            "SPHSERVICE     0\n",
            "CMPSERVICE     0\n",
            "OPISERVICE     0\n",
            "RTCSERVICE     0\n",
            "IJSSERVICE     0\n",
            "MH1            0\n",
            "MH2            0\n",
            "MH3            0\n",
            "SUB            0\n",
            "MARSTAT        0\n",
            "SMISED         0\n",
            "SAP            0\n",
            "EMPLOY         0\n",
            "DETNLF         0\n",
            "VETERAN        0\n",
            "LIVARAG        0\n",
            "NUMMHS         0\n",
            "TRAUSTREFLG    0\n",
            "ANXIETYFLG     0\n",
            "ADHDFLG        0\n",
            "CONDUCTFLG     0\n",
            "DELIRDEMFLG    0\n",
            "BIPOLARFLG     0\n",
            "DEPRESSFLG     0\n",
            "ODDFLG         0\n",
            "PDDFLG         0\n",
            "PERSONFLG      0\n",
            "SCHIZOFLG      0\n",
            "ALCSUBFLG      0\n",
            "OTHERDISFLG    0\n",
            "STATEFIP       0\n",
            "DIVISION       0\n",
            "REGION         0\n",
            "CASEID         0\n",
            "dtype: int64\n",
            "            YEAR           AGE          EDUC        ETHNIC          RACE  \\\n",
            "count  2321773.0  2.321773e+06  2.321773e+06  2.321773e+06  2.321773e+06   \n",
            "mean      2022.0  3.983309e-01 -5.887506e+00 -1.746323e+00 -3.374146e-01   \n",
            "std          0.0  6.357286e-01  4.495357e+00  6.308064e+00  6.588283e+00   \n",
            "min       2022.0 -9.000000e+00 -9.000000e+00 -9.000000e+00 -9.000000e+00   \n",
            "25%       2022.0  1.538462e-01 -9.000000e+00 -9.000000e+00 -9.000000e+00   \n",
            "50%       2022.0  3.846154e-01 -9.000000e+00  3.000000e+00  3.000000e+00   \n",
            "75%       2022.0  6.923077e-01  2.500000e-01  4.000000e+00  5.000000e+00   \n",
            "max       2022.0  1.000000e+00  1.000000e+00  4.000000e+00  6.000000e+00   \n",
            "\n",
            "             GENDER    SPHSERVICE    CMPSERVICE    OPISERVICE    RTCSERVICE  \\\n",
            "count  2.321773e+06  2.321773e+06  2.321773e+06  2.321773e+06  2.321773e+06   \n",
            "mean   4.113214e-01  1.853583e-02  9.718362e-01  3.494657e-02  7.987000e-03   \n",
            "std    9.203481e-01  1.348787e-01  1.654407e-01  1.836445e-01  8.901242e-02   \n",
            "min   -9.000000e+00  0.000000e+00  0.000000e+00  0.000000e+00  0.000000e+00   \n",
            "25%    0.000000e+00  0.000000e+00  1.000000e+00  0.000000e+00  0.000000e+00   \n",
            "50%    0.000000e+00  0.000000e+00  1.000000e+00  0.000000e+00  0.000000e+00   \n",
            "75%    1.000000e+00  0.000000e+00  1.000000e+00  0.000000e+00  0.000000e+00   \n",
            "max    1.000000e+00  1.000000e+00  1.000000e+00  1.000000e+00  1.000000e+00   \n",
            "\n",
            "       ...        ODDFLG        PDDFLG     PERSONFLG     SCHIZOFLG  \\\n",
            "count  ...  2.321773e+06  2.321773e+06  2.321773e+06  2.321773e+06   \n",
            "mean   ...  1.122763e-02  1.088737e-02  9.376024e-03  4.896258e-02   \n",
            "std    ...  1.053640e-01  1.037730e-01  9.637488e-02  2.157899e-01   \n",
            "min    ...  0.000000e+00  0.000000e+00  0.000000e+00  0.000000e+00   \n",
            "25%    ...  0.000000e+00  0.000000e+00  0.000000e+00  0.000000e+00   \n",
            "50%    ...  0.000000e+00  0.000000e+00  0.000000e+00  0.000000e+00   \n",
            "75%    ...  0.000000e+00  0.000000e+00  0.000000e+00  0.000000e+00   \n",
            "max    ...  1.000000e+00  1.000000e+00  1.000000e+00  1.000000e+00   \n",
            "\n",
            "          ALCSUBFLG   OTHERDISFLG      STATEFIP      DIVISION        REGION  \\\n",
            "count  2.321773e+06  2.321773e+06  2.321773e+06  2.321773e+06  2.321773e+06   \n",
            "mean   3.765743e-02  9.110236e-02  2.812684e+01  5.556271e+00  2.761903e+00   \n",
            "std    1.903664e-01  2.877547e-01  1.608225e+01  2.633316e+00  1.095798e+00   \n",
            "min    0.000000e+00  0.000000e+00  1.000000e+00  0.000000e+00  0.000000e+00   \n",
            "25%    0.000000e+00  0.000000e+00  1.200000e+01  4.000000e+00  2.000000e+00   \n",
            "50%    0.000000e+00  0.000000e+00  2.700000e+01  5.000000e+00  3.000000e+00   \n",
            "75%    0.000000e+00  0.000000e+00  4.200000e+01  8.000000e+00  4.000000e+00   \n",
            "max    1.000000e+00  1.000000e+00  9.900000e+01  9.000000e+00  4.000000e+00   \n",
            "\n",
            "             CASEID  \n",
            "count  2.321773e+06  \n",
            "mean   2.022352e+10  \n",
            "std    2.019286e+06  \n",
            "min    2.022000e+10  \n",
            "25%    2.022182e+10  \n",
            "50%    2.022349e+10  \n",
            "75%    2.022512e+10  \n",
            "max    2.022696e+10  \n",
            "\n",
            "[8 rows x 40 columns]\n"
          ]
        }
      ]
    },
    {
      "cell_type": "code",
      "source": [
        "missing_cols = df.columns[df.isnull().any()]\n",
        "df[missing_cols].isnull().sum()\n",
        "\n",
        "missing_rows = df[df.isnull().any(axis=1)]\n",
        "print(missing_rows)"
      ],
      "metadata": {
        "colab": {
          "base_uri": "https://localhost:8080/"
        },
        "id": "rfwEVPd-9jIL",
        "outputId": "6dd739f8-b4ba-4971-8891-a5143086f936"
      },
      "execution_count": 25,
      "outputs": [
        {
          "output_type": "stream",
          "name": "stdout",
          "text": [
            "Empty DataFrame\n",
            "Columns: [YEAR, AGE, EDUC, ETHNIC, RACE, GENDER, SPHSERVICE, CMPSERVICE, OPISERVICE, RTCSERVICE, IJSSERVICE, MH1, MH2, MH3, SUB, MARSTAT, SMISED, SAP, EMPLOY, DETNLF, VETERAN, LIVARAG, NUMMHS, TRAUSTREFLG, ANXIETYFLG, ADHDFLG, CONDUCTFLG, DELIRDEMFLG, BIPOLARFLG, DEPRESSFLG, ODDFLG, PDDFLG, PERSONFLG, SCHIZOFLG, ALCSUBFLG, OTHERDISFLG, STATEFIP, DIVISION, REGION, CASEID]\n",
            "Index: []\n",
            "\n",
            "[0 rows x 40 columns]\n"
          ]
        }
      ]
    },
    {
      "cell_type": "markdown",
      "source": [
        "# Step1. 기초통계비교"
      ],
      "metadata": {
        "id": "3mrFfFsHYnSB"
      }
    },
    {
      "cell_type": "markdown",
      "source": [
        "# 1. **t-test : 고용상태에 따라 인구사회학적/임상적 특징이 다른가?**"
      ],
      "metadata": {
        "id": "qjjz80XBW1zD"
      }
    },
    {
      "cell_type": "code",
      "source": [
        "from scipy.stats import ttest_ind\n",
        "\n",
        "# (0, 0.25 = 고용 / 0.75, 1 = 비고용) 기준으로 binary 생성 (1 = 고용, 0 = 비고용)\n",
        "employed_filter = df[df['EMPLOY'].isin([0, 0.25, 0.75, 1])].copy()\n",
        "\n",
        "employed_filter['employed_status'] = employed_filter['EMPLOY'].apply(lambda x: 1 if x in [0, 0.25] else 0)\n",
        "\n",
        "# 수치형 변수: AGE, NUMMHS 등 평균 차이 분석\n",
        "numeric_cols = ['AGE', 'NUMMHS']\n",
        "for col in numeric_cols:\n",
        "    employed = employed_filter[employed_filter['employed_status'] == 1][col]\n",
        "    unemployed = employed_filter[employed_filter['employed_status'] == 0][col]\n",
        "    t_stat, p = ttest_ind(employed, unemployed, equal_var=False)\n",
        "    print(f\"[T-test] {col}: p = {p:.4f}\")\n",
        "\n",
        "# 범주형 변수: CHI-SQUARE\n",
        "categorical_cols = [\n",
        "    'EDUC', 'GENDER', 'ETHNIC', 'RACE', 'MARSTAT',\n",
        "    'TRAUSTREFLG', 'ANXIETYFLG', 'ADHDFLG', 'CONDUCTFLG',\n",
        "    'DELIRDEMFLG', 'BIPOLARFLG', 'DEPRESSFLG', 'ODDFLG', 'PDDFLG',\n",
        "    'PERSONFLG', 'SCHIZOFLG', 'ALCSUBFLG', 'OTHERDISFLG', 'SAP', 'VETERAN'\n",
        "]\n",
        "from scipy.stats import chi2_contingency\n",
        "\n",
        "for col in categorical_cols:\n",
        "    ct = pd.crosstab(employed_filter['employed_status'], employed_filter[col])\n",
        "    if ct.shape[0] == 2 and ct.shape[1] > 1:  # 조건 만족 시만 계산\n",
        "        chi2, p_val, _, _ = chi2_contingency(ct)\n",
        "        print(f\"{col}: p = {p_val:.4f}\")"
      ],
      "metadata": {
        "colab": {
          "base_uri": "https://localhost:8080/"
        },
        "id": "9KL50KNTWSpW",
        "outputId": "16385543-e1a5-4a1a-c51e-27ff028794bb"
      },
      "execution_count": 38,
      "outputs": [
        {
          "output_type": "stream",
          "name": "stdout",
          "text": [
            "[T-test] AGE: p = 0.0000\n",
            "[T-test] NUMMHS: p = 0.0000\n",
            "EDUC: p = 0.0000\n",
            "GENDER: p = 0.0000\n",
            "ETHNIC: p = 0.0000\n",
            "RACE: p = 0.0000\n",
            "MARSTAT: p = 0.0000\n",
            "TRAUSTREFLG: p = 0.0000\n",
            "ANXIETYFLG: p = 0.0000\n",
            "ADHDFLG: p = 0.9013\n",
            "CONDUCTFLG: p = 0.0000\n",
            "DELIRDEMFLG: p = 0.0000\n",
            "BIPOLARFLG: p = 0.8930\n",
            "DEPRESSFLG: p = 0.0000\n",
            "ODDFLG: p = 0.0000\n",
            "PDDFLG: p = 0.0000\n",
            "PERSONFLG: p = 0.0003\n",
            "SCHIZOFLG: p = 0.0000\n",
            "ALCSUBFLG: p = 0.0213\n",
            "OTHERDISFLG: p = 0.0000\n",
            "SAP: p = 0.0000\n",
            "VETERAN: p = 0.0000\n"
          ]
        }
      ]
    },
    {
      "cell_type": "markdown",
      "source": [
        "### 결과 설명\n",
        "p-value가 0.05보다 작은 경우, 고용상태와 유의미한 관계로 판단할 수 있다.\n",
        "\n",
        "- AGE(나이), NUMMHS(정신건강 서비스 이용 횟수), EDUC(교육 수준), GENDER(성별), ETHNIC(민족), RACE(인종), MARSTAT(혼인 상태), TRAUSTREFLG(법원 명령 여부), ANXIETYFLG(불안장애 여부), CONDUCTFLG(품행장애 여부), DELIRDEMFLG(섬망/치매 여부), DEPRESSFLG(우울증 여부), ODDFLG(반항성 장애 여부), PDDFLG(발달장애 여부), PERSONFLG(인격장애 여부), SCHIZOFLG(정신분열증 여부), ALCSUBFLG(알코올 관련 문제 여부), OTHERDISFLG(기타 질환 여부), SAP(약물치료 프로그램 참여 여부), VETERAN(재향군인 여부)\n",
        "\n",
        "- ADHDFLG(ADHD 여부)와 BIPOLARFLG(양극성 장애 여부)는 고용여부와 큰 연관이 없다."
      ],
      "metadata": {
        "id": "s6oO5EFKaKpi"
      }
    },
    {
      "cell_type": "markdown",
      "source": [
        "# 2. 입원 여부에 따라 고용 가능성이 달라지는가?"
      ],
      "metadata": {
        "id": "rh5Btbv8Yb2k"
      }
    },
    {
      "cell_type": "code",
      "source": [
        "import pandas as pd\n",
        "from scipy.stats import chi2_contingency\n",
        "\n",
        "# EMPLOY: 0, 0.25 : '고용', 0.75, 1 : '비고용'\n",
        "df['employed_status'] = df['EMPLOY'].apply(lambda x: 1 if x in [0, 0.25] else 0)\n",
        "\n",
        "ct = pd.crosstab(df['SPHSERVICE'], df['employed_status'])\n",
        "\n",
        "chi2, p_val, dof, expected = chi2_contingency(ct) # 카이제곱 실행\n",
        "\n",
        "print(f\"p = {p_val:.4f}\")\n"
      ],
      "metadata": {
        "colab": {
          "base_uri": "https://localhost:8080/"
        },
        "id": "qJmFetp-Yh8e",
        "outputId": "b69cbef8-64a1-4b9b-ac29-559f4ec42ea4"
      },
      "execution_count": 42,
      "outputs": [
        {
          "output_type": "stream",
          "name": "stdout",
          "text": [
            "p = 0.0000\n"
          ]
        }
      ]
    },
    {
      "cell_type": "markdown",
      "source": [
        "### 결과 설명\n",
        "입원 여부와 고용 여부는 서로 독립인가?\n",
        ">> **p-value 값이 작기 때문에** 입원 여부와 고용 여부가 서로 독립이 아닌, 유의미한 관계가 있다고 판단 가능.\n",
        "\n",
        "**따라서, 회복, 즉 고용에 있어, 입원은 중요한 연과관계가 있다고 볼 수 있다.**"
      ],
      "metadata": {
        "id": "njUmkXzWZeCw"
      }
    }
  ]
}